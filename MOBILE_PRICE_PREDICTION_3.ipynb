{
 "cells": [
  {
   "cell_type": "markdown",
   "metadata": {
    "id": "eklGe1F_vdgT"
   },
   "source": [
    "## Mobile Price Prediction "
   ]
  },
  {
   "cell_type": "markdown",
   "metadata": {
    "id": "2lpMl83bvdgU"
   },
   "source": [
    "### In this project we are going to do perdict the house price based on some of the feature.Ok let's get start the prediction!!!"
   ]
  },
  {
   "cell_type": "markdown",
   "metadata": {
    "id": "fZ6qGQC8vdgU"
   },
   "source": [
    "### Import the Libraires and Dataset"
   ]
  },
  {
   "cell_type": "code",
   "execution_count": 130,
   "metadata": {
    "id": "yU1yeUdPvdgV"
   },
   "outputs": [],
   "source": [
    "# Import libraries\n",
    "import numpy as np\n",
    "import pandas as pd\n",
    "import seaborn as sns\n",
    "from matplotlib import pyplot as plt"
   ]
  },
  {
   "cell_type": "code",
   "execution_count": 131,
   "metadata": {
    "colab": {
     "base_uri": "https://localhost:8080/",
     "height": 267
    },
    "id": "gVXKqZlSvdgW",
    "outputId": "6ee6b6a7-a43a-4875-b425-fd0538dd2f86"
   },
   "outputs": [
    {
     "data": {
      "text/html": [
       "\n",
       "  <div id=\"df-152168e2-dd2a-47df-95ea-1f41d1380a85\">\n",
       "    <div class=\"colab-df-container\">\n",
       "      <div>\n",
       "<style scoped>\n",
       "    .dataframe tbody tr th:only-of-type {\n",
       "        vertical-align: middle;\n",
       "    }\n",
       "\n",
       "    .dataframe tbody tr th {\n",
       "        vertical-align: top;\n",
       "    }\n",
       "\n",
       "    .dataframe thead th {\n",
       "        text-align: right;\n",
       "    }\n",
       "</style>\n",
       "<table border=\"1\" class=\"dataframe\">\n",
       "  <thead>\n",
       "    <tr style=\"text-align: right;\">\n",
       "      <th></th>\n",
       "      <th>Product_id</th>\n",
       "      <th>Price</th>\n",
       "      <th>Sale</th>\n",
       "      <th>weight</th>\n",
       "      <th>resoloution</th>\n",
       "      <th>ppi</th>\n",
       "      <th>cpu core</th>\n",
       "      <th>cpu freq</th>\n",
       "      <th>internal mem</th>\n",
       "      <th>ram</th>\n",
       "      <th>RearCam</th>\n",
       "      <th>Front_Cam</th>\n",
       "      <th>battery</th>\n",
       "      <th>thickness</th>\n",
       "    </tr>\n",
       "  </thead>\n",
       "  <tbody>\n",
       "    <tr>\n",
       "      <th>0</th>\n",
       "      <td>203</td>\n",
       "      <td>2357</td>\n",
       "      <td>10</td>\n",
       "      <td>135.0</td>\n",
       "      <td>5.2</td>\n",
       "      <td>424</td>\n",
       "      <td>8</td>\n",
       "      <td>1.35</td>\n",
       "      <td>16.0</td>\n",
       "      <td>3.000</td>\n",
       "      <td>13.00</td>\n",
       "      <td>8.0</td>\n",
       "      <td>2610</td>\n",
       "      <td>7.4</td>\n",
       "    </tr>\n",
       "    <tr>\n",
       "      <th>1</th>\n",
       "      <td>880</td>\n",
       "      <td>1749</td>\n",
       "      <td>10</td>\n",
       "      <td>125.0</td>\n",
       "      <td>4.0</td>\n",
       "      <td>233</td>\n",
       "      <td>2</td>\n",
       "      <td>1.30</td>\n",
       "      <td>4.0</td>\n",
       "      <td>1.000</td>\n",
       "      <td>3.15</td>\n",
       "      <td>0.0</td>\n",
       "      <td>1700</td>\n",
       "      <td>9.9</td>\n",
       "    </tr>\n",
       "    <tr>\n",
       "      <th>2</th>\n",
       "      <td>40</td>\n",
       "      <td>1916</td>\n",
       "      <td>10</td>\n",
       "      <td>110.0</td>\n",
       "      <td>4.7</td>\n",
       "      <td>312</td>\n",
       "      <td>4</td>\n",
       "      <td>1.20</td>\n",
       "      <td>8.0</td>\n",
       "      <td>1.500</td>\n",
       "      <td>13.00</td>\n",
       "      <td>5.0</td>\n",
       "      <td>2000</td>\n",
       "      <td>7.6</td>\n",
       "    </tr>\n",
       "    <tr>\n",
       "      <th>3</th>\n",
       "      <td>99</td>\n",
       "      <td>1315</td>\n",
       "      <td>11</td>\n",
       "      <td>118.5</td>\n",
       "      <td>4.0</td>\n",
       "      <td>233</td>\n",
       "      <td>2</td>\n",
       "      <td>1.30</td>\n",
       "      <td>4.0</td>\n",
       "      <td>0.512</td>\n",
       "      <td>3.15</td>\n",
       "      <td>0.0</td>\n",
       "      <td>1400</td>\n",
       "      <td>11.0</td>\n",
       "    </tr>\n",
       "    <tr>\n",
       "      <th>4</th>\n",
       "      <td>880</td>\n",
       "      <td>1749</td>\n",
       "      <td>11</td>\n",
       "      <td>125.0</td>\n",
       "      <td>4.0</td>\n",
       "      <td>233</td>\n",
       "      <td>2</td>\n",
       "      <td>1.30</td>\n",
       "      <td>4.0</td>\n",
       "      <td>1.000</td>\n",
       "      <td>3.15</td>\n",
       "      <td>0.0</td>\n",
       "      <td>1700</td>\n",
       "      <td>9.9</td>\n",
       "    </tr>\n",
       "  </tbody>\n",
       "</table>\n",
       "</div>\n",
       "      <button class=\"colab-df-convert\" onclick=\"convertToInteractive('df-152168e2-dd2a-47df-95ea-1f41d1380a85')\"\n",
       "              title=\"Convert this dataframe to an interactive table.\"\n",
       "              style=\"display:none;\">\n",
       "        \n",
       "  <svg xmlns=\"http://www.w3.org/2000/svg\" height=\"24px\"viewBox=\"0 0 24 24\"\n",
       "       width=\"24px\">\n",
       "    <path d=\"M0 0h24v24H0V0z\" fill=\"none\"/>\n",
       "    <path d=\"M18.56 5.44l.94 2.06.94-2.06 2.06-.94-2.06-.94-.94-2.06-.94 2.06-2.06.94zm-11 1L8.5 8.5l.94-2.06 2.06-.94-2.06-.94L8.5 2.5l-.94 2.06-2.06.94zm10 10l.94 2.06.94-2.06 2.06-.94-2.06-.94-.94-2.06-.94 2.06-2.06.94z\"/><path d=\"M17.41 7.96l-1.37-1.37c-.4-.4-.92-.59-1.43-.59-.52 0-1.04.2-1.43.59L10.3 9.45l-7.72 7.72c-.78.78-.78 2.05 0 2.83L4 21.41c.39.39.9.59 1.41.59.51 0 1.02-.2 1.41-.59l7.78-7.78 2.81-2.81c.8-.78.8-2.07 0-2.86zM5.41 20L4 18.59l7.72-7.72 1.47 1.35L5.41 20z\"/>\n",
       "  </svg>\n",
       "      </button>\n",
       "      \n",
       "  <style>\n",
       "    .colab-df-container {\n",
       "      display:flex;\n",
       "      flex-wrap:wrap;\n",
       "      gap: 12px;\n",
       "    }\n",
       "\n",
       "    .colab-df-convert {\n",
       "      background-color: #E8F0FE;\n",
       "      border: none;\n",
       "      border-radius: 50%;\n",
       "      cursor: pointer;\n",
       "      display: none;\n",
       "      fill: #1967D2;\n",
       "      height: 32px;\n",
       "      padding: 0 0 0 0;\n",
       "      width: 32px;\n",
       "    }\n",
       "\n",
       "    .colab-df-convert:hover {\n",
       "      background-color: #E2EBFA;\n",
       "      box-shadow: 0px 1px 2px rgba(60, 64, 67, 0.3), 0px 1px 3px 1px rgba(60, 64, 67, 0.15);\n",
       "      fill: #174EA6;\n",
       "    }\n",
       "\n",
       "    [theme=dark] .colab-df-convert {\n",
       "      background-color: #3B4455;\n",
       "      fill: #D2E3FC;\n",
       "    }\n",
       "\n",
       "    [theme=dark] .colab-df-convert:hover {\n",
       "      background-color: #434B5C;\n",
       "      box-shadow: 0px 1px 3px 1px rgba(0, 0, 0, 0.15);\n",
       "      filter: drop-shadow(0px 1px 2px rgba(0, 0, 0, 0.3));\n",
       "      fill: #FFFFFF;\n",
       "    }\n",
       "  </style>\n",
       "\n",
       "      <script>\n",
       "        const buttonEl =\n",
       "          document.querySelector('#df-152168e2-dd2a-47df-95ea-1f41d1380a85 button.colab-df-convert');\n",
       "        buttonEl.style.display =\n",
       "          google.colab.kernel.accessAllowed ? 'block' : 'none';\n",
       "\n",
       "        async function convertToInteractive(key) {\n",
       "          const element = document.querySelector('#df-152168e2-dd2a-47df-95ea-1f41d1380a85');\n",
       "          const dataTable =\n",
       "            await google.colab.kernel.invokeFunction('convertToInteractive',\n",
       "                                                     [key], {});\n",
       "          if (!dataTable) return;\n",
       "\n",
       "          const docLinkHtml = 'Like what you see? Visit the ' +\n",
       "            '<a target=\"_blank\" href=https://colab.research.google.com/notebooks/data_table.ipynb>data table notebook</a>'\n",
       "            + ' to learn more about interactive tables.';\n",
       "          element.innerHTML = '';\n",
       "          dataTable['output_type'] = 'display_data';\n",
       "          await google.colab.output.renderOutput(dataTable, element);\n",
       "          const docLink = document.createElement('div');\n",
       "          docLink.innerHTML = docLinkHtml;\n",
       "          element.appendChild(docLink);\n",
       "        }\n",
       "      </script>\n",
       "    </div>\n",
       "  </div>\n",
       "  "
      ],
      "text/plain": [
       "   Product_id  Price  Sale  weight  resoloution  ppi  cpu core  cpu freq  \\\n",
       "0         203   2357    10   135.0          5.2  424         8      1.35   \n",
       "1         880   1749    10   125.0          4.0  233         2      1.30   \n",
       "2          40   1916    10   110.0          4.7  312         4      1.20   \n",
       "3          99   1315    11   118.5          4.0  233         2      1.30   \n",
       "4         880   1749    11   125.0          4.0  233         2      1.30   \n",
       "\n",
       "   internal mem    ram  RearCam  Front_Cam  battery  thickness  \n",
       "0          16.0  3.000    13.00        8.0     2610        7.4  \n",
       "1           4.0  1.000     3.15        0.0     1700        9.9  \n",
       "2           8.0  1.500    13.00        5.0     2000        7.6  \n",
       "3           4.0  0.512     3.15        0.0     1400       11.0  \n",
       "4           4.0  1.000     3.15        0.0     1700        9.9  "
      ]
     },
     "execution_count": 131,
     "metadata": {},
     "output_type": "execute_result"
    }
   ],
   "source": [
    "# Import Dataset\n",
    "df = pd.read_csv(\"/content/Cellphone.csv\")\n",
    "df.head()"
   ]
  },
  {
   "cell_type": "code",
   "execution_count": 132,
   "metadata": {
    "colab": {
     "base_uri": "https://localhost:8080/"
    },
    "id": "yUxUAb6Mxe39",
    "outputId": "4b0a5ea8-de90-427d-d9d1-2a5540199d2f"
   },
   "outputs": [
    {
     "data": {
      "text/plain": [
       "Index(['Product_id', 'Price', 'Sale', 'weight', 'resoloution', 'ppi',\n",
       "       'cpu core', 'cpu freq', 'internal mem', 'ram', 'RearCam', 'Front_Cam',\n",
       "       'battery', 'thickness'],\n",
       "      dtype='object')"
      ]
     },
     "execution_count": 132,
     "metadata": {},
     "output_type": "execute_result"
    }
   ],
   "source": [
    "df.columns"
   ]
  },
  {
   "cell_type": "markdown",
   "metadata": {
    "id": "GTQKQhsgvdgW"
   },
   "source": [
    "### Data Preprocessing"
   ]
  },
  {
   "cell_type": "code",
   "execution_count": 133,
   "metadata": {
    "id": "0_NgZEjYvdgX"
   },
   "outputs": [],
   "source": [
    "# Drop the Unwannted column the first one\n",
    "df.drop(['Product_id'],axis=1,inplace=True)"
   ]
  },
  {
   "cell_type": "code",
   "execution_count": 134,
   "metadata": {
    "colab": {
     "base_uri": "https://localhost:8080/",
     "height": 206
    },
    "id": "odRH7OY2vdgX",
    "outputId": "d9274480-3f62-4c73-c992-c9faca690cbe"
   },
   "outputs": [
    {
     "data": {
      "text/html": [
       "\n",
       "  <div id=\"df-0ce7fce1-5555-4b3d-8436-5cc29feb118a\">\n",
       "    <div class=\"colab-df-container\">\n",
       "      <div>\n",
       "<style scoped>\n",
       "    .dataframe tbody tr th:only-of-type {\n",
       "        vertical-align: middle;\n",
       "    }\n",
       "\n",
       "    .dataframe tbody tr th {\n",
       "        vertical-align: top;\n",
       "    }\n",
       "\n",
       "    .dataframe thead th {\n",
       "        text-align: right;\n",
       "    }\n",
       "</style>\n",
       "<table border=\"1\" class=\"dataframe\">\n",
       "  <thead>\n",
       "    <tr style=\"text-align: right;\">\n",
       "      <th></th>\n",
       "      <th>Price</th>\n",
       "      <th>Sale</th>\n",
       "      <th>weight</th>\n",
       "      <th>resoloution</th>\n",
       "      <th>ppi</th>\n",
       "      <th>cpu core</th>\n",
       "      <th>cpu freq</th>\n",
       "      <th>internal mem</th>\n",
       "      <th>ram</th>\n",
       "      <th>RearCam</th>\n",
       "      <th>Front_Cam</th>\n",
       "      <th>battery</th>\n",
       "      <th>thickness</th>\n",
       "    </tr>\n",
       "  </thead>\n",
       "  <tbody>\n",
       "    <tr>\n",
       "      <th>0</th>\n",
       "      <td>2357</td>\n",
       "      <td>10</td>\n",
       "      <td>135.0</td>\n",
       "      <td>5.2</td>\n",
       "      <td>424</td>\n",
       "      <td>8</td>\n",
       "      <td>1.35</td>\n",
       "      <td>16.0</td>\n",
       "      <td>3.000</td>\n",
       "      <td>13.00</td>\n",
       "      <td>8.0</td>\n",
       "      <td>2610</td>\n",
       "      <td>7.4</td>\n",
       "    </tr>\n",
       "    <tr>\n",
       "      <th>1</th>\n",
       "      <td>1749</td>\n",
       "      <td>10</td>\n",
       "      <td>125.0</td>\n",
       "      <td>4.0</td>\n",
       "      <td>233</td>\n",
       "      <td>2</td>\n",
       "      <td>1.30</td>\n",
       "      <td>4.0</td>\n",
       "      <td>1.000</td>\n",
       "      <td>3.15</td>\n",
       "      <td>0.0</td>\n",
       "      <td>1700</td>\n",
       "      <td>9.9</td>\n",
       "    </tr>\n",
       "    <tr>\n",
       "      <th>2</th>\n",
       "      <td>1916</td>\n",
       "      <td>10</td>\n",
       "      <td>110.0</td>\n",
       "      <td>4.7</td>\n",
       "      <td>312</td>\n",
       "      <td>4</td>\n",
       "      <td>1.20</td>\n",
       "      <td>8.0</td>\n",
       "      <td>1.500</td>\n",
       "      <td>13.00</td>\n",
       "      <td>5.0</td>\n",
       "      <td>2000</td>\n",
       "      <td>7.6</td>\n",
       "    </tr>\n",
       "    <tr>\n",
       "      <th>3</th>\n",
       "      <td>1315</td>\n",
       "      <td>11</td>\n",
       "      <td>118.5</td>\n",
       "      <td>4.0</td>\n",
       "      <td>233</td>\n",
       "      <td>2</td>\n",
       "      <td>1.30</td>\n",
       "      <td>4.0</td>\n",
       "      <td>0.512</td>\n",
       "      <td>3.15</td>\n",
       "      <td>0.0</td>\n",
       "      <td>1400</td>\n",
       "      <td>11.0</td>\n",
       "    </tr>\n",
       "    <tr>\n",
       "      <th>4</th>\n",
       "      <td>1749</td>\n",
       "      <td>11</td>\n",
       "      <td>125.0</td>\n",
       "      <td>4.0</td>\n",
       "      <td>233</td>\n",
       "      <td>2</td>\n",
       "      <td>1.30</td>\n",
       "      <td>4.0</td>\n",
       "      <td>1.000</td>\n",
       "      <td>3.15</td>\n",
       "      <td>0.0</td>\n",
       "      <td>1700</td>\n",
       "      <td>9.9</td>\n",
       "    </tr>\n",
       "  </tbody>\n",
       "</table>\n",
       "</div>\n",
       "      <button class=\"colab-df-convert\" onclick=\"convertToInteractive('df-0ce7fce1-5555-4b3d-8436-5cc29feb118a')\"\n",
       "              title=\"Convert this dataframe to an interactive table.\"\n",
       "              style=\"display:none;\">\n",
       "        \n",
       "  <svg xmlns=\"http://www.w3.org/2000/svg\" height=\"24px\"viewBox=\"0 0 24 24\"\n",
       "       width=\"24px\">\n",
       "    <path d=\"M0 0h24v24H0V0z\" fill=\"none\"/>\n",
       "    <path d=\"M18.56 5.44l.94 2.06.94-2.06 2.06-.94-2.06-.94-.94-2.06-.94 2.06-2.06.94zm-11 1L8.5 8.5l.94-2.06 2.06-.94-2.06-.94L8.5 2.5l-.94 2.06-2.06.94zm10 10l.94 2.06.94-2.06 2.06-.94-2.06-.94-.94-2.06-.94 2.06-2.06.94z\"/><path d=\"M17.41 7.96l-1.37-1.37c-.4-.4-.92-.59-1.43-.59-.52 0-1.04.2-1.43.59L10.3 9.45l-7.72 7.72c-.78.78-.78 2.05 0 2.83L4 21.41c.39.39.9.59 1.41.59.51 0 1.02-.2 1.41-.59l7.78-7.78 2.81-2.81c.8-.78.8-2.07 0-2.86zM5.41 20L4 18.59l7.72-7.72 1.47 1.35L5.41 20z\"/>\n",
       "  </svg>\n",
       "      </button>\n",
       "      \n",
       "  <style>\n",
       "    .colab-df-container {\n",
       "      display:flex;\n",
       "      flex-wrap:wrap;\n",
       "      gap: 12px;\n",
       "    }\n",
       "\n",
       "    .colab-df-convert {\n",
       "      background-color: #E8F0FE;\n",
       "      border: none;\n",
       "      border-radius: 50%;\n",
       "      cursor: pointer;\n",
       "      display: none;\n",
       "      fill: #1967D2;\n",
       "      height: 32px;\n",
       "      padding: 0 0 0 0;\n",
       "      width: 32px;\n",
       "    }\n",
       "\n",
       "    .colab-df-convert:hover {\n",
       "      background-color: #E2EBFA;\n",
       "      box-shadow: 0px 1px 2px rgba(60, 64, 67, 0.3), 0px 1px 3px 1px rgba(60, 64, 67, 0.15);\n",
       "      fill: #174EA6;\n",
       "    }\n",
       "\n",
       "    [theme=dark] .colab-df-convert {\n",
       "      background-color: #3B4455;\n",
       "      fill: #D2E3FC;\n",
       "    }\n",
       "\n",
       "    [theme=dark] .colab-df-convert:hover {\n",
       "      background-color: #434B5C;\n",
       "      box-shadow: 0px 1px 3px 1px rgba(0, 0, 0, 0.15);\n",
       "      filter: drop-shadow(0px 1px 2px rgba(0, 0, 0, 0.3));\n",
       "      fill: #FFFFFF;\n",
       "    }\n",
       "  </style>\n",
       "\n",
       "      <script>\n",
       "        const buttonEl =\n",
       "          document.querySelector('#df-0ce7fce1-5555-4b3d-8436-5cc29feb118a button.colab-df-convert');\n",
       "        buttonEl.style.display =\n",
       "          google.colab.kernel.accessAllowed ? 'block' : 'none';\n",
       "\n",
       "        async function convertToInteractive(key) {\n",
       "          const element = document.querySelector('#df-0ce7fce1-5555-4b3d-8436-5cc29feb118a');\n",
       "          const dataTable =\n",
       "            await google.colab.kernel.invokeFunction('convertToInteractive',\n",
       "                                                     [key], {});\n",
       "          if (!dataTable) return;\n",
       "\n",
       "          const docLinkHtml = 'Like what you see? Visit the ' +\n",
       "            '<a target=\"_blank\" href=https://colab.research.google.com/notebooks/data_table.ipynb>data table notebook</a>'\n",
       "            + ' to learn more about interactive tables.';\n",
       "          element.innerHTML = '';\n",
       "          dataTable['output_type'] = 'display_data';\n",
       "          await google.colab.output.renderOutput(dataTable, element);\n",
       "          const docLink = document.createElement('div');\n",
       "          docLink.innerHTML = docLinkHtml;\n",
       "          element.appendChild(docLink);\n",
       "        }\n",
       "      </script>\n",
       "    </div>\n",
       "  </div>\n",
       "  "
      ],
      "text/plain": [
       "   Price  Sale  weight  resoloution  ppi  cpu core  cpu freq  internal mem  \\\n",
       "0   2357    10   135.0          5.2  424         8      1.35          16.0   \n",
       "1   1749    10   125.0          4.0  233         2      1.30           4.0   \n",
       "2   1916    10   110.0          4.7  312         4      1.20           8.0   \n",
       "3   1315    11   118.5          4.0  233         2      1.30           4.0   \n",
       "4   1749    11   125.0          4.0  233         2      1.30           4.0   \n",
       "\n",
       "     ram  RearCam  Front_Cam  battery  thickness  \n",
       "0  3.000    13.00        8.0     2610        7.4  \n",
       "1  1.000     3.15        0.0     1700        9.9  \n",
       "2  1.500    13.00        5.0     2000        7.6  \n",
       "3  0.512     3.15        0.0     1400       11.0  \n",
       "4  1.000     3.15        0.0     1700        9.9  "
      ]
     },
     "execution_count": 134,
     "metadata": {},
     "output_type": "execute_result"
    }
   ],
   "source": [
    "# After removing the dataset look like\n",
    "df.head()"
   ]
  },
  {
   "cell_type": "code",
   "execution_count": 134,
   "metadata": {
    "id": "s_BqkhP4l3t8"
   },
   "outputs": [],
   "source": []
  },
  {
   "cell_type": "code",
   "execution_count": 134,
   "metadata": {
    "id": "7aSnhV6ZlFny"
   },
   "outputs": [],
   "source": []
  },
  {
   "cell_type": "code",
   "execution_count": 135,
   "metadata": {
    "colab": {
     "base_uri": "https://localhost:8080/"
    },
    "id": "Kvs5StJRvdgX",
    "outputId": "5e5d6236-ac00-4b09-802e-db88933b6483"
   },
   "outputs": [
    {
     "data": {
      "text/plain": [
       "Price           0\n",
       "Sale            0\n",
       "weight          0\n",
       "resoloution     0\n",
       "ppi             0\n",
       "cpu core        0\n",
       "cpu freq        0\n",
       "internal mem    0\n",
       "ram             0\n",
       "RearCam         0\n",
       "Front_Cam       0\n",
       "battery         0\n",
       "thickness       0\n",
       "dtype: int64"
      ]
     },
     "execution_count": 135,
     "metadata": {},
     "output_type": "execute_result"
    }
   ],
   "source": [
    "# Checking null values into the dataset\n",
    "df.isnull().sum()"
   ]
  },
  {
   "cell_type": "code",
   "execution_count": 136,
   "metadata": {
    "colab": {
     "base_uri": "https://localhost:8080/"
    },
    "id": "VwTVL4B8vdgY",
    "outputId": "e74c491b-d306-4047-fefd-b900ea1aae53"
   },
   "outputs": [
    {
     "name": "stdout",
     "output_type": "stream",
     "text": [
      "<class 'pandas.core.frame.DataFrame'>\n",
      "RangeIndex: 161 entries, 0 to 160\n",
      "Data columns (total 13 columns):\n",
      " #   Column        Non-Null Count  Dtype  \n",
      "---  ------        --------------  -----  \n",
      " 0   Price         161 non-null    int64  \n",
      " 1   Sale          161 non-null    int64  \n",
      " 2   weight        161 non-null    float64\n",
      " 3   resoloution   161 non-null    float64\n",
      " 4   ppi           161 non-null    int64  \n",
      " 5   cpu core      161 non-null    int64  \n",
      " 6   cpu freq      161 non-null    float64\n",
      " 7   internal mem  161 non-null    float64\n",
      " 8   ram           161 non-null    float64\n",
      " 9   RearCam       161 non-null    float64\n",
      " 10  Front_Cam     161 non-null    float64\n",
      " 11  battery       161 non-null    int64  \n",
      " 12  thickness     161 non-null    float64\n",
      "dtypes: float64(8), int64(5)\n",
      "memory usage: 16.5 KB\n"
     ]
    }
   ],
   "source": [
    "# Summary of the dataset\n",
    "df.info()"
   ]
  },
  {
   "cell_type": "code",
   "execution_count": 137,
   "metadata": {
    "colab": {
     "base_uri": "https://localhost:8080/"
    },
    "id": "KEvITMZ1vdgY",
    "outputId": "61caaaed-9ade-44a6-9016-e2cb4a7e7e33"
   },
   "outputs": [
    {
     "data": {
      "text/plain": [
       "Price             int64\n",
       "Sale              int64\n",
       "weight          float64\n",
       "resoloution     float64\n",
       "ppi               int64\n",
       "cpu core          int64\n",
       "cpu freq        float64\n",
       "internal mem    float64\n",
       "ram             float64\n",
       "RearCam         float64\n",
       "Front_Cam       float64\n",
       "battery           int64\n",
       "thickness       float64\n",
       "dtype: object"
      ]
     },
     "execution_count": 137,
     "metadata": {},
     "output_type": "execute_result"
    }
   ],
   "source": [
    "df.dtypes"
   ]
  },
  {
   "cell_type": "code",
   "execution_count": 138,
   "metadata": {
    "colab": {
     "base_uri": "https://localhost:8080/",
     "height": 381
    },
    "id": "Dx2hBf2QvdgY",
    "outputId": "bb8023ac-6b4c-4ed7-867e-0f2a1e32d6ca"
   },
   "outputs": [
    {
     "data": {
      "text/html": [
       "\n",
       "  <div id=\"df-ccfdae75-b2de-4df9-81cb-a6993faa16a4\">\n",
       "    <div class=\"colab-df-container\">\n",
       "      <div>\n",
       "<style scoped>\n",
       "    .dataframe tbody tr th:only-of-type {\n",
       "        vertical-align: middle;\n",
       "    }\n",
       "\n",
       "    .dataframe tbody tr th {\n",
       "        vertical-align: top;\n",
       "    }\n",
       "\n",
       "    .dataframe thead th {\n",
       "        text-align: right;\n",
       "    }\n",
       "</style>\n",
       "<table border=\"1\" class=\"dataframe\">\n",
       "  <thead>\n",
       "    <tr style=\"text-align: right;\">\n",
       "      <th></th>\n",
       "      <th>Price</th>\n",
       "      <th>Sale</th>\n",
       "      <th>weight</th>\n",
       "      <th>resoloution</th>\n",
       "      <th>ppi</th>\n",
       "      <th>cpu core</th>\n",
       "      <th>cpu freq</th>\n",
       "      <th>internal mem</th>\n",
       "      <th>ram</th>\n",
       "      <th>RearCam</th>\n",
       "      <th>Front_Cam</th>\n",
       "      <th>battery</th>\n",
       "      <th>thickness</th>\n",
       "    </tr>\n",
       "  </thead>\n",
       "  <tbody>\n",
       "    <tr>\n",
       "      <th>count</th>\n",
       "      <td>161.000000</td>\n",
       "      <td>161.000000</td>\n",
       "      <td>161.000000</td>\n",
       "      <td>161.000000</td>\n",
       "      <td>161.000000</td>\n",
       "      <td>161.000000</td>\n",
       "      <td>161.000000</td>\n",
       "      <td>161.000000</td>\n",
       "      <td>161.000000</td>\n",
       "      <td>161.000000</td>\n",
       "      <td>161.000000</td>\n",
       "      <td>161.000000</td>\n",
       "      <td>161.000000</td>\n",
       "    </tr>\n",
       "    <tr>\n",
       "      <th>mean</th>\n",
       "      <td>2215.596273</td>\n",
       "      <td>621.465839</td>\n",
       "      <td>170.426087</td>\n",
       "      <td>5.209938</td>\n",
       "      <td>335.055901</td>\n",
       "      <td>4.857143</td>\n",
       "      <td>1.502832</td>\n",
       "      <td>24.501714</td>\n",
       "      <td>2.204994</td>\n",
       "      <td>10.378261</td>\n",
       "      <td>4.503106</td>\n",
       "      <td>2842.111801</td>\n",
       "      <td>8.921739</td>\n",
       "    </tr>\n",
       "    <tr>\n",
       "      <th>std</th>\n",
       "      <td>768.187171</td>\n",
       "      <td>1546.618517</td>\n",
       "      <td>92.888612</td>\n",
       "      <td>1.509953</td>\n",
       "      <td>134.826659</td>\n",
       "      <td>2.444016</td>\n",
       "      <td>0.599783</td>\n",
       "      <td>28.804773</td>\n",
       "      <td>1.609831</td>\n",
       "      <td>6.181585</td>\n",
       "      <td>4.342053</td>\n",
       "      <td>1366.990838</td>\n",
       "      <td>2.192564</td>\n",
       "    </tr>\n",
       "    <tr>\n",
       "      <th>min</th>\n",
       "      <td>614.000000</td>\n",
       "      <td>10.000000</td>\n",
       "      <td>66.000000</td>\n",
       "      <td>1.400000</td>\n",
       "      <td>121.000000</td>\n",
       "      <td>0.000000</td>\n",
       "      <td>0.000000</td>\n",
       "      <td>0.000000</td>\n",
       "      <td>0.000000</td>\n",
       "      <td>0.000000</td>\n",
       "      <td>0.000000</td>\n",
       "      <td>800.000000</td>\n",
       "      <td>5.100000</td>\n",
       "    </tr>\n",
       "    <tr>\n",
       "      <th>25%</th>\n",
       "      <td>1734.000000</td>\n",
       "      <td>37.000000</td>\n",
       "      <td>134.100000</td>\n",
       "      <td>4.800000</td>\n",
       "      <td>233.000000</td>\n",
       "      <td>4.000000</td>\n",
       "      <td>1.200000</td>\n",
       "      <td>8.000000</td>\n",
       "      <td>1.000000</td>\n",
       "      <td>5.000000</td>\n",
       "      <td>0.000000</td>\n",
       "      <td>2040.000000</td>\n",
       "      <td>7.600000</td>\n",
       "    </tr>\n",
       "    <tr>\n",
       "      <th>50%</th>\n",
       "      <td>2258.000000</td>\n",
       "      <td>106.000000</td>\n",
       "      <td>153.000000</td>\n",
       "      <td>5.150000</td>\n",
       "      <td>294.000000</td>\n",
       "      <td>4.000000</td>\n",
       "      <td>1.400000</td>\n",
       "      <td>16.000000</td>\n",
       "      <td>2.000000</td>\n",
       "      <td>12.000000</td>\n",
       "      <td>5.000000</td>\n",
       "      <td>2800.000000</td>\n",
       "      <td>8.400000</td>\n",
       "    </tr>\n",
       "    <tr>\n",
       "      <th>75%</th>\n",
       "      <td>2744.000000</td>\n",
       "      <td>382.000000</td>\n",
       "      <td>170.000000</td>\n",
       "      <td>5.500000</td>\n",
       "      <td>428.000000</td>\n",
       "      <td>8.000000</td>\n",
       "      <td>1.875000</td>\n",
       "      <td>32.000000</td>\n",
       "      <td>3.000000</td>\n",
       "      <td>16.000000</td>\n",
       "      <td>8.000000</td>\n",
       "      <td>3240.000000</td>\n",
       "      <td>9.800000</td>\n",
       "    </tr>\n",
       "    <tr>\n",
       "      <th>max</th>\n",
       "      <td>4361.000000</td>\n",
       "      <td>9807.000000</td>\n",
       "      <td>753.000000</td>\n",
       "      <td>12.200000</td>\n",
       "      <td>806.000000</td>\n",
       "      <td>8.000000</td>\n",
       "      <td>2.700000</td>\n",
       "      <td>128.000000</td>\n",
       "      <td>6.000000</td>\n",
       "      <td>23.000000</td>\n",
       "      <td>20.000000</td>\n",
       "      <td>9500.000000</td>\n",
       "      <td>18.500000</td>\n",
       "    </tr>\n",
       "  </tbody>\n",
       "</table>\n",
       "</div>\n",
       "      <button class=\"colab-df-convert\" onclick=\"convertToInteractive('df-ccfdae75-b2de-4df9-81cb-a6993faa16a4')\"\n",
       "              title=\"Convert this dataframe to an interactive table.\"\n",
       "              style=\"display:none;\">\n",
       "        \n",
       "  <svg xmlns=\"http://www.w3.org/2000/svg\" height=\"24px\"viewBox=\"0 0 24 24\"\n",
       "       width=\"24px\">\n",
       "    <path d=\"M0 0h24v24H0V0z\" fill=\"none\"/>\n",
       "    <path d=\"M18.56 5.44l.94 2.06.94-2.06 2.06-.94-2.06-.94-.94-2.06-.94 2.06-2.06.94zm-11 1L8.5 8.5l.94-2.06 2.06-.94-2.06-.94L8.5 2.5l-.94 2.06-2.06.94zm10 10l.94 2.06.94-2.06 2.06-.94-2.06-.94-.94-2.06-.94 2.06-2.06.94z\"/><path d=\"M17.41 7.96l-1.37-1.37c-.4-.4-.92-.59-1.43-.59-.52 0-1.04.2-1.43.59L10.3 9.45l-7.72 7.72c-.78.78-.78 2.05 0 2.83L4 21.41c.39.39.9.59 1.41.59.51 0 1.02-.2 1.41-.59l7.78-7.78 2.81-2.81c.8-.78.8-2.07 0-2.86zM5.41 20L4 18.59l7.72-7.72 1.47 1.35L5.41 20z\"/>\n",
       "  </svg>\n",
       "      </button>\n",
       "      \n",
       "  <style>\n",
       "    .colab-df-container {\n",
       "      display:flex;\n",
       "      flex-wrap:wrap;\n",
       "      gap: 12px;\n",
       "    }\n",
       "\n",
       "    .colab-df-convert {\n",
       "      background-color: #E8F0FE;\n",
       "      border: none;\n",
       "      border-radius: 50%;\n",
       "      cursor: pointer;\n",
       "      display: none;\n",
       "      fill: #1967D2;\n",
       "      height: 32px;\n",
       "      padding: 0 0 0 0;\n",
       "      width: 32px;\n",
       "    }\n",
       "\n",
       "    .colab-df-convert:hover {\n",
       "      background-color: #E2EBFA;\n",
       "      box-shadow: 0px 1px 2px rgba(60, 64, 67, 0.3), 0px 1px 3px 1px rgba(60, 64, 67, 0.15);\n",
       "      fill: #174EA6;\n",
       "    }\n",
       "\n",
       "    [theme=dark] .colab-df-convert {\n",
       "      background-color: #3B4455;\n",
       "      fill: #D2E3FC;\n",
       "    }\n",
       "\n",
       "    [theme=dark] .colab-df-convert:hover {\n",
       "      background-color: #434B5C;\n",
       "      box-shadow: 0px 1px 3px 1px rgba(0, 0, 0, 0.15);\n",
       "      filter: drop-shadow(0px 1px 2px rgba(0, 0, 0, 0.3));\n",
       "      fill: #FFFFFF;\n",
       "    }\n",
       "  </style>\n",
       "\n",
       "      <script>\n",
       "        const buttonEl =\n",
       "          document.querySelector('#df-ccfdae75-b2de-4df9-81cb-a6993faa16a4 button.colab-df-convert');\n",
       "        buttonEl.style.display =\n",
       "          google.colab.kernel.accessAllowed ? 'block' : 'none';\n",
       "\n",
       "        async function convertToInteractive(key) {\n",
       "          const element = document.querySelector('#df-ccfdae75-b2de-4df9-81cb-a6993faa16a4');\n",
       "          const dataTable =\n",
       "            await google.colab.kernel.invokeFunction('convertToInteractive',\n",
       "                                                     [key], {});\n",
       "          if (!dataTable) return;\n",
       "\n",
       "          const docLinkHtml = 'Like what you see? Visit the ' +\n",
       "            '<a target=\"_blank\" href=https://colab.research.google.com/notebooks/data_table.ipynb>data table notebook</a>'\n",
       "            + ' to learn more about interactive tables.';\n",
       "          element.innerHTML = '';\n",
       "          dataTable['output_type'] = 'display_data';\n",
       "          await google.colab.output.renderOutput(dataTable, element);\n",
       "          const docLink = document.createElement('div');\n",
       "          docLink.innerHTML = docLinkHtml;\n",
       "          element.appendChild(docLink);\n",
       "        }\n",
       "      </script>\n",
       "    </div>\n",
       "  </div>\n",
       "  "
      ],
      "text/plain": [
       "             Price         Sale      weight  resoloution         ppi  \\\n",
       "count   161.000000   161.000000  161.000000   161.000000  161.000000   \n",
       "mean   2215.596273   621.465839  170.426087     5.209938  335.055901   \n",
       "std     768.187171  1546.618517   92.888612     1.509953  134.826659   \n",
       "min     614.000000    10.000000   66.000000     1.400000  121.000000   \n",
       "25%    1734.000000    37.000000  134.100000     4.800000  233.000000   \n",
       "50%    2258.000000   106.000000  153.000000     5.150000  294.000000   \n",
       "75%    2744.000000   382.000000  170.000000     5.500000  428.000000   \n",
       "max    4361.000000  9807.000000  753.000000    12.200000  806.000000   \n",
       "\n",
       "         cpu core    cpu freq  internal mem         ram     RearCam  \\\n",
       "count  161.000000  161.000000    161.000000  161.000000  161.000000   \n",
       "mean     4.857143    1.502832     24.501714    2.204994   10.378261   \n",
       "std      2.444016    0.599783     28.804773    1.609831    6.181585   \n",
       "min      0.000000    0.000000      0.000000    0.000000    0.000000   \n",
       "25%      4.000000    1.200000      8.000000    1.000000    5.000000   \n",
       "50%      4.000000    1.400000     16.000000    2.000000   12.000000   \n",
       "75%      8.000000    1.875000     32.000000    3.000000   16.000000   \n",
       "max      8.000000    2.700000    128.000000    6.000000   23.000000   \n",
       "\n",
       "        Front_Cam      battery   thickness  \n",
       "count  161.000000   161.000000  161.000000  \n",
       "mean     4.503106  2842.111801    8.921739  \n",
       "std      4.342053  1366.990838    2.192564  \n",
       "min      0.000000   800.000000    5.100000  \n",
       "25%      0.000000  2040.000000    7.600000  \n",
       "50%      5.000000  2800.000000    8.400000  \n",
       "75%      8.000000  3240.000000    9.800000  \n",
       "max     20.000000  9500.000000   18.500000  "
      ]
     },
     "execution_count": 138,
     "metadata": {},
     "output_type": "execute_result"
    }
   ],
   "source": [
    "# Describe\n",
    "df.describe()"
   ]
  },
  {
   "cell_type": "code",
   "execution_count": 139,
   "metadata": {
    "id": "dhiomoaCvdgZ"
   },
   "outputs": [],
   "source": [
    "# # Dropping the Name columns\n",
    "# df.drop(['Brand me'],axis=1,inplace=True)"
   ]
  },
  {
   "cell_type": "markdown",
   "metadata": {
    "id": "FUEXPz7qvdgZ"
   },
   "source": [
    "### Handling Missing Values"
   ]
  },
  {
   "cell_type": "code",
   "execution_count": 140,
   "metadata": {
    "colab": {
     "base_uri": "https://localhost:8080/"
    },
    "id": "UGd-mlUTvdgZ",
    "outputId": "25b7edcc-3538-473f-ce95-1577917e4ff9"
   },
   "outputs": [
    {
     "data": {
      "text/plain": [
       "Price           0\n",
       "Sale            0\n",
       "weight          0\n",
       "resoloution     0\n",
       "ppi             0\n",
       "cpu core        0\n",
       "cpu freq        0\n",
       "internal mem    0\n",
       "ram             0\n",
       "RearCam         0\n",
       "Front_Cam       0\n",
       "battery         0\n",
       "thickness       0\n",
       "dtype: int64"
      ]
     },
     "execution_count": 140,
     "metadata": {},
     "output_type": "execute_result"
    }
   ],
   "source": [
    "# We should handling these null or missing values\n",
    "df.isnull().sum()"
   ]
  },
  {
   "cell_type": "code",
   "execution_count": 141,
   "metadata": {
    "colab": {
     "base_uri": "https://localhost:8080/",
     "height": 206
    },
    "id": "694wLFSvvdgb",
    "outputId": "d54b1893-ef74-46db-ee33-d091bc8d5a8a"
   },
   "outputs": [
    {
     "data": {
      "text/html": [
       "\n",
       "  <div id=\"df-cd37c519-fb01-4f00-a033-c2e704061085\">\n",
       "    <div class=\"colab-df-container\">\n",
       "      <div>\n",
       "<style scoped>\n",
       "    .dataframe tbody tr th:only-of-type {\n",
       "        vertical-align: middle;\n",
       "    }\n",
       "\n",
       "    .dataframe tbody tr th {\n",
       "        vertical-align: top;\n",
       "    }\n",
       "\n",
       "    .dataframe thead th {\n",
       "        text-align: right;\n",
       "    }\n",
       "</style>\n",
       "<table border=\"1\" class=\"dataframe\">\n",
       "  <thead>\n",
       "    <tr style=\"text-align: right;\">\n",
       "      <th></th>\n",
       "      <th>Price</th>\n",
       "      <th>Sale</th>\n",
       "      <th>weight</th>\n",
       "      <th>resoloution</th>\n",
       "      <th>ppi</th>\n",
       "      <th>cpu core</th>\n",
       "      <th>cpu freq</th>\n",
       "      <th>internal mem</th>\n",
       "      <th>ram</th>\n",
       "      <th>RearCam</th>\n",
       "      <th>Front_Cam</th>\n",
       "      <th>battery</th>\n",
       "      <th>thickness</th>\n",
       "    </tr>\n",
       "  </thead>\n",
       "  <tbody>\n",
       "    <tr>\n",
       "      <th>0</th>\n",
       "      <td>2357</td>\n",
       "      <td>10</td>\n",
       "      <td>135.0</td>\n",
       "      <td>5.2</td>\n",
       "      <td>424</td>\n",
       "      <td>8</td>\n",
       "      <td>1.35</td>\n",
       "      <td>16.0</td>\n",
       "      <td>3.000</td>\n",
       "      <td>13.00</td>\n",
       "      <td>8.0</td>\n",
       "      <td>2610</td>\n",
       "      <td>7.4</td>\n",
       "    </tr>\n",
       "    <tr>\n",
       "      <th>1</th>\n",
       "      <td>1749</td>\n",
       "      <td>10</td>\n",
       "      <td>125.0</td>\n",
       "      <td>4.0</td>\n",
       "      <td>233</td>\n",
       "      <td>2</td>\n",
       "      <td>1.30</td>\n",
       "      <td>4.0</td>\n",
       "      <td>1.000</td>\n",
       "      <td>3.15</td>\n",
       "      <td>0.0</td>\n",
       "      <td>1700</td>\n",
       "      <td>9.9</td>\n",
       "    </tr>\n",
       "    <tr>\n",
       "      <th>2</th>\n",
       "      <td>1916</td>\n",
       "      <td>10</td>\n",
       "      <td>110.0</td>\n",
       "      <td>4.7</td>\n",
       "      <td>312</td>\n",
       "      <td>4</td>\n",
       "      <td>1.20</td>\n",
       "      <td>8.0</td>\n",
       "      <td>1.500</td>\n",
       "      <td>13.00</td>\n",
       "      <td>5.0</td>\n",
       "      <td>2000</td>\n",
       "      <td>7.6</td>\n",
       "    </tr>\n",
       "    <tr>\n",
       "      <th>3</th>\n",
       "      <td>1315</td>\n",
       "      <td>11</td>\n",
       "      <td>118.5</td>\n",
       "      <td>4.0</td>\n",
       "      <td>233</td>\n",
       "      <td>2</td>\n",
       "      <td>1.30</td>\n",
       "      <td>4.0</td>\n",
       "      <td>0.512</td>\n",
       "      <td>3.15</td>\n",
       "      <td>0.0</td>\n",
       "      <td>1400</td>\n",
       "      <td>11.0</td>\n",
       "    </tr>\n",
       "    <tr>\n",
       "      <th>4</th>\n",
       "      <td>1749</td>\n",
       "      <td>11</td>\n",
       "      <td>125.0</td>\n",
       "      <td>4.0</td>\n",
       "      <td>233</td>\n",
       "      <td>2</td>\n",
       "      <td>1.30</td>\n",
       "      <td>4.0</td>\n",
       "      <td>1.000</td>\n",
       "      <td>3.15</td>\n",
       "      <td>0.0</td>\n",
       "      <td>1700</td>\n",
       "      <td>9.9</td>\n",
       "    </tr>\n",
       "  </tbody>\n",
       "</table>\n",
       "</div>\n",
       "      <button class=\"colab-df-convert\" onclick=\"convertToInteractive('df-cd37c519-fb01-4f00-a033-c2e704061085')\"\n",
       "              title=\"Convert this dataframe to an interactive table.\"\n",
       "              style=\"display:none;\">\n",
       "        \n",
       "  <svg xmlns=\"http://www.w3.org/2000/svg\" height=\"24px\"viewBox=\"0 0 24 24\"\n",
       "       width=\"24px\">\n",
       "    <path d=\"M0 0h24v24H0V0z\" fill=\"none\"/>\n",
       "    <path d=\"M18.56 5.44l.94 2.06.94-2.06 2.06-.94-2.06-.94-.94-2.06-.94 2.06-2.06.94zm-11 1L8.5 8.5l.94-2.06 2.06-.94-2.06-.94L8.5 2.5l-.94 2.06-2.06.94zm10 10l.94 2.06.94-2.06 2.06-.94-2.06-.94-.94-2.06-.94 2.06-2.06.94z\"/><path d=\"M17.41 7.96l-1.37-1.37c-.4-.4-.92-.59-1.43-.59-.52 0-1.04.2-1.43.59L10.3 9.45l-7.72 7.72c-.78.78-.78 2.05 0 2.83L4 21.41c.39.39.9.59 1.41.59.51 0 1.02-.2 1.41-.59l7.78-7.78 2.81-2.81c.8-.78.8-2.07 0-2.86zM5.41 20L4 18.59l7.72-7.72 1.47 1.35L5.41 20z\"/>\n",
       "  </svg>\n",
       "      </button>\n",
       "      \n",
       "  <style>\n",
       "    .colab-df-container {\n",
       "      display:flex;\n",
       "      flex-wrap:wrap;\n",
       "      gap: 12px;\n",
       "    }\n",
       "\n",
       "    .colab-df-convert {\n",
       "      background-color: #E8F0FE;\n",
       "      border: none;\n",
       "      border-radius: 50%;\n",
       "      cursor: pointer;\n",
       "      display: none;\n",
       "      fill: #1967D2;\n",
       "      height: 32px;\n",
       "      padding: 0 0 0 0;\n",
       "      width: 32px;\n",
       "    }\n",
       "\n",
       "    .colab-df-convert:hover {\n",
       "      background-color: #E2EBFA;\n",
       "      box-shadow: 0px 1px 2px rgba(60, 64, 67, 0.3), 0px 1px 3px 1px rgba(60, 64, 67, 0.15);\n",
       "      fill: #174EA6;\n",
       "    }\n",
       "\n",
       "    [theme=dark] .colab-df-convert {\n",
       "      background-color: #3B4455;\n",
       "      fill: #D2E3FC;\n",
       "    }\n",
       "\n",
       "    [theme=dark] .colab-df-convert:hover {\n",
       "      background-color: #434B5C;\n",
       "      box-shadow: 0px 1px 3px 1px rgba(0, 0, 0, 0.15);\n",
       "      filter: drop-shadow(0px 1px 2px rgba(0, 0, 0, 0.3));\n",
       "      fill: #FFFFFF;\n",
       "    }\n",
       "  </style>\n",
       "\n",
       "      <script>\n",
       "        const buttonEl =\n",
       "          document.querySelector('#df-cd37c519-fb01-4f00-a033-c2e704061085 button.colab-df-convert');\n",
       "        buttonEl.style.display =\n",
       "          google.colab.kernel.accessAllowed ? 'block' : 'none';\n",
       "\n",
       "        async function convertToInteractive(key) {\n",
       "          const element = document.querySelector('#df-cd37c519-fb01-4f00-a033-c2e704061085');\n",
       "          const dataTable =\n",
       "            await google.colab.kernel.invokeFunction('convertToInteractive',\n",
       "                                                     [key], {});\n",
       "          if (!dataTable) return;\n",
       "\n",
       "          const docLinkHtml = 'Like what you see? Visit the ' +\n",
       "            '<a target=\"_blank\" href=https://colab.research.google.com/notebooks/data_table.ipynb>data table notebook</a>'\n",
       "            + ' to learn more about interactive tables.';\n",
       "          element.innerHTML = '';\n",
       "          dataTable['output_type'] = 'display_data';\n",
       "          await google.colab.output.renderOutput(dataTable, element);\n",
       "          const docLink = document.createElement('div');\n",
       "          docLink.innerHTML = docLinkHtml;\n",
       "          element.appendChild(docLink);\n",
       "        }\n",
       "      </script>\n",
       "    </div>\n",
       "  </div>\n",
       "  "
      ],
      "text/plain": [
       "   Price  Sale  weight  resoloution  ppi  cpu core  cpu freq  internal mem  \\\n",
       "0   2357    10   135.0          5.2  424         8      1.35          16.0   \n",
       "1   1749    10   125.0          4.0  233         2      1.30           4.0   \n",
       "2   1916    10   110.0          4.7  312         4      1.20           8.0   \n",
       "3   1315    11   118.5          4.0  233         2      1.30           4.0   \n",
       "4   1749    11   125.0          4.0  233         2      1.30           4.0   \n",
       "\n",
       "     ram  RearCam  Front_Cam  battery  thickness  \n",
       "0  3.000    13.00        8.0     2610        7.4  \n",
       "1  1.000     3.15        0.0     1700        9.9  \n",
       "2  1.500    13.00        5.0     2000        7.6  \n",
       "3  0.512     3.15        0.0     1400       11.0  \n",
       "4  1.000     3.15        0.0     1700        9.9  "
      ]
     },
     "execution_count": 141,
     "metadata": {},
     "output_type": "execute_result"
    }
   ],
   "source": [
    "# Final dataset for build a model\n",
    "df.head()"
   ]
  },
  {
   "cell_type": "markdown",
   "metadata": {
    "id": "0G7MTIL3vdgb"
   },
   "source": [
    "### Exploratory Data Analysis "
   ]
  },
  {
   "cell_type": "code",
   "execution_count": 142,
   "metadata": {
    "id": "gFDL1-97vdgb"
   },
   "outputs": [],
   "source": [
    "# Columns"
   ]
  },
  {
   "cell_type": "markdown",
   "metadata": {
    "id": "4ALu-0Wnvdgb"
   },
   "source": [
    "#### Let's Understand about the Features"
   ]
  },
  {
   "cell_type": "code",
   "execution_count": 143,
   "metadata": {
    "colab": {
     "base_uri": "https://localhost:8080/"
    },
    "id": "bjKd2oMhvdgc",
    "outputId": "619ddf5d-5ad1-471c-cf3d-74bd01d9ebe8"
   },
   "outputs": [
    {
     "data": {
      "text/plain": [
       "(13, 13)"
      ]
     },
     "execution_count": 143,
     "metadata": {},
     "output_type": "execute_result"
    }
   ],
   "source": [
    "# Finding out the correlation between the features\n",
    "corr = df.corr()\n",
    "corr.shape"
   ]
  },
  {
   "cell_type": "code",
   "execution_count": 144,
   "metadata": {
    "colab": {
     "base_uri": "https://localhost:8080/",
     "height": 774
    },
    "id": "ITI8kX1Bvdgc",
    "outputId": "9c012ddc-083f-4e99-e949-1e4a859b0cab"
   },
   "outputs": [
    {
     "data": {
      "text/plain": [
       "<matplotlib.axes._subplots.AxesSubplot at 0x7fb7b1ace400>"
      ]
     },
     "execution_count": 144,
     "metadata": {},
     "output_type": "execute_result"
    },
    {
     "data": {
      "image/png": "[encoded data removed]",
      "text/plain": [
       "<Figure size 864x864 with 1 Axes>"
      ]
     },
     "metadata": {
      "needs_background": "light"
     },
     "output_type": "display_data"
    }
   ],
   "source": [
    "# Plotting the heatmap of correlation between features\n",
    "plt.figure(figsize=(12,12))\n",
    "sns.heatmap(corr, cbar=False, square= True, fmt='.2%', annot=True, cmap='Greens')"
   ]
  },
  {
   "cell_type": "code",
   "execution_count": 145,
   "metadata": {
    "id": "-AhPEM_Ivdgc"
   },
   "outputs": [],
   "source": [
    "# # plt.figure(figsize=(15,10))\n",
    "# # sns.set_style('whitegrid')\n",
    "# # dat = df[\"Price\"][0:8]  \n",
    "# # sns.countplot(x=dat,data=df)\n",
    "\n",
    "# plt.figure(figsize=(15,10))\n",
    "# sns.set_style('whitegrid')\n",
    "# d = df[\"cpu freq\"][0:8] \n",
    "# sns.countplot(x=d,data=df)\n",
    "\n",
    "\n"
   ]
  },
  {
   "cell_type": "code",
   "execution_count": 145,
   "metadata": {
    "id": "E5_eymOJvdgd"
   },
   "outputs": [],
   "source": []
  },
  {
   "cell_type": "code",
   "execution_count": 146,
   "metadata": {
    "id": "ffCZbWgYvdgd"
   },
   "outputs": [],
   "source": [
    "# plt.figure(figsize=(15,10))\n",
    "# sns.set_style('whitegrid')\n",
    "# da = df[\"Sale\"][0:10] \n",
    "# sns.countplot(x=da,data=df)"
   ]
  },
  {
   "cell_type": "code",
   "execution_count": 147,
   "metadata": {
    "id": "bu0jt1Ztvdgd"
   },
   "outputs": [],
   "source": [
    "# plt.figure(figsize=(15,10))\n",
    "# sns.set_style('whitegrid')\n",
    "# dat = df[\"resoloution\"][0:8] \n",
    "# sns.countplot(x=dat,data=df)"
   ]
  },
  {
   "cell_type": "code",
   "execution_count": 148,
   "metadata": {
    "id": "0dgLZxGcvdgd"
   },
   "outputs": [],
   "source": [
    "# plt.figure(figsize=(15,10))\n",
    "# sns.set_style('whitegrid')\n",
    "# dat = df[\"cpu freq\"][0:6]\n",
    "# sns.countplot(x=dat,data=df)\n"
   ]
  },
  {
   "cell_type": "code",
   "execution_count": 148,
   "metadata": {
    "id": "sbwNsluQCldV"
   },
   "outputs": [],
   "source": []
  },
  {
   "cell_type": "code",
   "execution_count": 149,
   "metadata": {
    "colab": {
     "base_uri": "https://localhost:8080/",
     "height": 351
    },
    "id": "czMUCvJrvdge",
    "outputId": "c6638021-8722-4c67-fb9e-5d852a79caae"
   },
   "outputs": [
    {
     "name": "stderr",
     "output_type": "stream",
     "text": [
      "/usr/local/lib/python3.8/dist-packages/seaborn/distributions.py:2619: FutureWarning: `distplot` is a deprecated function and will be removed in a future version. Please adapt your code to use either `displot` (a figure-level function with similar flexibility) or `histplot` (an axes-level function for histograms).\n",
      "  warnings.warn(msg, FutureWarning)\n"
     ]
    },
    {
     "data": {
      "text/plain": [
       "<matplotlib.axes._subplots.AxesSubplot at 0x7fb7b186d670>"
      ]
     },
     "execution_count": 149,
     "metadata": {},
     "output_type": "execute_result"
    },
    {
     "data": {
      "image/png": "[encoded data removed]",
      "text/plain": [
       "<Figure size 432x288 with 1 Axes>"
      ]
     },
     "metadata": {
      "needs_background": "light"
     },
     "output_type": "display_data"
    }
   ],
   "source": [
    "sns.distplot(df['cpu freq'].dropna(),kde=False,color='darkred',bins=10)"
   ]
  },
  {
   "cell_type": "code",
   "execution_count": 150,
   "metadata": {
    "colab": {
     "base_uri": "https://localhost:8080/",
     "height": 296
    },
    "id": "jHWT1XNdvdge",
    "outputId": "6c9bfcbb-71e4-4412-adda-909c679a0402"
   },
   "outputs": [
    {
     "data": {
      "text/plain": [
       "<matplotlib.axes._subplots.AxesSubplot at 0x7fb7b15286a0>"
      ]
     },
     "execution_count": 150,
     "metadata": {},
     "output_type": "execute_result"
    },
    {
     "data": {
      "image/png": "[encoded data removed]",
      "text/plain": [
       "<Figure size 432x288 with 1 Axes>"
      ]
     },
     "metadata": {
      "needs_background": "light"
     },
     "output_type": "display_data"
    }
   ],
   "source": [
    "sns.distplot(df['resoloution'].dropna(),kde=False,color='green',bins=10)"
   ]
  },
  {
   "cell_type": "code",
   "execution_count": 151,
   "metadata": {
    "colab": {
     "base_uri": "https://localhost:8080/",
     "height": 296
    },
    "id": "q7E7Hu-Gvdge",
    "outputId": "61de5ed3-97dd-4e7b-f0e2-2236525da3a9"
   },
   "outputs": [
    {
     "data": {
      "text/plain": [
       "<matplotlib.axes._subplots.AxesSubplot at 0x7fb7b1ad3b80>"
      ]
     },
     "execution_count": 151,
     "metadata": {},
     "output_type": "execute_result"
    },
    {
     "data": {
      "image/png": "[encoded data removed]",
      "text/plain": [
       "<Figure size 432x288 with 1 Axes>"
      ]
     },
     "metadata": {
      "needs_background": "light"
     },
     "output_type": "display_data"
    }
   ],
   "source": [
    "sns.distplot(df['Sale'].dropna(),kde=False,color='darkblue',bins=15)"
   ]
  },
  {
   "cell_type": "code",
   "execution_count": 152,
   "metadata": {
    "colab": {
     "base_uri": "https://localhost:8080/",
     "height": 296
    },
    "id": "zxHoH6a6vdge",
    "outputId": "863b35da-96cd-40d3-8bc2-824fbcdab7da"
   },
   "outputs": [
    {
     "data": {
      "text/plain": [
       "<matplotlib.axes._subplots.AxesSubplot at 0x7fb7b1416280>"
      ]
     },
     "execution_count": 152,
     "metadata": {},
     "output_type": "execute_result"
    },
    {
     "data": {
      "image/png": "[encoded data removed]",
      "text/plain": [
       "<Figure size 432x288 with 1 Axes>"
      ]
     },
     "metadata": {
      "needs_background": "light"
     },
     "output_type": "display_data"
    }
   ],
   "source": [
    "sns.distplot(df['weight'].dropna(),kde=False,color='darkblue',bins=15)"
   ]
  },
  {
   "cell_type": "code",
   "execution_count": 153,
   "metadata": {
    "colab": {
     "base_uri": "https://localhost:8080/",
     "height": 296
    },
    "id": "y48OYWR2Czjb",
    "outputId": "b6431e01-25e0-4fe6-f38d-265ac16405ab"
   },
   "outputs": [
    {
     "data": {
      "text/plain": [
       "<matplotlib.axes._subplots.AxesSubplot at 0x7fb7b13fc910>"
      ]
     },
     "execution_count": 153,
     "metadata": {},
     "output_type": "execute_result"
    },
    {
     "data": {
      "image/png": "[encoded data removed]",
      "text/plain": [
       "<Figure size 432x288 with 1 Axes>"
      ]
     },
     "metadata": {
      "needs_background": "light"
     },
     "output_type": "display_data"
    }
   ],
   "source": [
    "sns.distplot(df['ppi'].dropna(),kde=False,color='darkblue',bins=15)"
   ]
  },
  {
   "cell_type": "code",
   "execution_count": 154,
   "metadata": {
    "colab": {
     "base_uri": "https://localhost:8080/",
     "height": 296
    },
    "id": "yo96E40qDDWM",
    "outputId": "18e4ca1d-d8bb-4f5c-a0fb-573d4da9ba72"
   },
   "outputs": [
    {
     "data": {
      "text/plain": [
       "<matplotlib.axes._subplots.AxesSubplot at 0x7fb7b1309a00>"
      ]
     },
     "execution_count": 154,
     "metadata": {},
     "output_type": "execute_result"
    },
    {
     "data": {
      "image/png": "[encoded data removed]",
      "text/plain": [
       "<Figure size 432x288 with 1 Axes>"
      ]
     },
     "metadata": {
      "needs_background": "light"
     },
     "output_type": "display_data"
    }
   ],
   "source": [
    "sns.distplot(df['internal mem'].dropna(),kde=False,color='darkblue',bins=15)"
   ]
  },
  {
   "cell_type": "code",
   "execution_count": 155,
   "metadata": {
    "colab": {
     "base_uri": "https://localhost:8080/",
     "height": 296
    },
    "id": "d_BEKXzmDe1e",
    "outputId": "625e07cf-8e7a-4f95-f222-7d235de96669"
   },
   "outputs": [
    {
     "data": {
      "text/plain": [
       "<matplotlib.axes._subplots.AxesSubplot at 0x7fb7b1283430>"
      ]
     },
     "execution_count": 155,
     "metadata": {},
     "output_type": "execute_result"
    },
    {
     "data": {
      "image/png": "[encoded data removed]",
      "text/plain": [
       "<Figure size 432x288 with 1 Axes>"
      ]
     },
     "metadata": {
      "needs_background": "light"
     },
     "output_type": "display_data"
    }
   ],
   "source": [
    "sns.distplot(df['cpu core'].dropna(),kde=False,color='darkblue',bins=15)"
   ]
  },
  {
   "cell_type": "code",
   "execution_count": 156,
   "metadata": {
    "colab": {
     "base_uri": "https://localhost:8080/",
     "height": 296
    },
    "id": "qomJnCuqDnol",
    "outputId": "9e23eb2a-2887-4ea3-a8e0-32e8014fdc6a"
   },
   "outputs": [
    {
     "data": {
      "text/plain": [
       "<matplotlib.axes._subplots.AxesSubplot at 0x7fb7b127f7c0>"
      ]
     },
     "execution_count": 156,
     "metadata": {},
     "output_type": "execute_result"
    },
    {
     "data": {
      "image/png": "[encoded data removed]",
      "text/plain": [
       "<Figure size 432x288 with 1 Axes>"
      ]
     },
     "metadata": {
      "needs_background": "light"
     },
     "output_type": "display_data"
    }
   ],
   "source": [
    "sns.distplot(df['ram'].dropna(),kde=False,color='darkblue',bins=15)"
   ]
  },
  {
   "cell_type": "code",
   "execution_count": 157,
   "metadata": {
    "colab": {
     "base_uri": "https://localhost:8080/",
     "height": 297
    },
    "id": "OZQgzOb4D3j-",
    "outputId": "cae40ae3-be16-45fe-fee0-a2b37ee77f65"
   },
   "outputs": [
    {
     "data": {
      "text/plain": [
       "<matplotlib.axes._subplots.AxesSubplot at 0x7fb7b1183070>"
      ]
     },
     "execution_count": 157,
     "metadata": {},
     "output_type": "execute_result"
    },
    {
     "data": {
      "image/png": "[encoded data removed]",
      "text/plain": [
       "<Figure size 432x288 with 1 Axes>"
      ]
     },
     "metadata": {
      "needs_background": "light"
     },
     "output_type": "display_data"
    }
   ],
   "source": [
    "sns.distplot(df['RearCam'].dropna(),kde=False,color='darkblue',bins=15)"
   ]
  },
  {
   "cell_type": "code",
   "execution_count": 158,
   "metadata": {
    "colab": {
     "base_uri": "https://localhost:8080/",
     "height": 297
    },
    "id": "EY-KV1qlD4BD",
    "outputId": "c1d2487c-8609-42c8-fb67-a775b1180326"
   },
   "outputs": [
    {
     "data": {
      "text/plain": [
       "<matplotlib.axes._subplots.AxesSubplot at 0x7fb7b1171310>"
      ]
     },
     "execution_count": 158,
     "metadata": {},
     "output_type": "execute_result"
    },
    {
     "data": {
      "image/png": "[encoded data removed]",
      "text/plain": [
       "<Figure size 432x288 with 1 Axes>"
      ]
     },
     "metadata": {
      "needs_background": "light"
     },
     "output_type": "display_data"
    }
   ],
   "source": [
    "sns.distplot(df['Front_Cam'].dropna(),kde=False,color='darkblue',bins=15)"
   ]
  },
  {
   "cell_type": "code",
   "execution_count": 159,
   "metadata": {
    "colab": {
     "base_uri": "https://localhost:8080/",
     "height": 296
    },
    "id": "rFqyYOstD5rB",
    "outputId": "340d4e3f-9d8b-483c-988a-6083da7afee7"
   },
   "outputs": [
    {
     "data": {
      "text/plain": [
       "<matplotlib.axes._subplots.AxesSubplot at 0x7fb7b112c9d0>"
      ]
     },
     "execution_count": 159,
     "metadata": {},
     "output_type": "execute_result"
    },
    {
     "data": {
      "image/png": "[encoded data removed]",
      "text/plain": [
       "<Figure size 432x288 with 1 Axes>"
      ]
     },
     "metadata": {
      "needs_background": "light"
     },
     "output_type": "display_data"
    }
   ],
   "source": [
    "sns.distplot(df['battery'].dropna(),kde=False,color='darkblue',bins=15)\n"
   ]
  },
  {
   "cell_type": "code",
   "execution_count": 160,
   "metadata": {
    "id": "hdNt6cAll0Fx"
   },
   "outputs": [],
   "source": [
    "# # import module\n",
    "# # STANDARDASIATION\n",
    "# from sklearn.preprocessing import StandardScaler\n",
    "\n",
    "# # create data\n",
    "# # data = [[11, 2], [3, 7], [0, 10], [11, 8]]\n",
    "\n",
    "# # scale features\n",
    "# scaler = StandardScaler()\n",
    "# model=scaler.fit(X)\n",
    "# X=model.transform(X)\n",
    "\n",
    "# # print scaled features\n",
    "# print(X)"
   ]
  },
  {
   "cell_type": "code",
   "execution_count": 161,
   "metadata": {
    "id": "GeqYjo4Blv8t"
   },
   "outputs": [],
   "source": [
    "# # import module\n",
    "# #NORMALISATION\n",
    "# from sklearn.preprocessing import MinMaxScaler\n",
    "\n",
    "# # create data\n",
    "# # data = [[11, 2], [3, 7], [0, 10], [11, 8]]\n",
    "\n",
    "# # scale features\n",
    "# scaler = MinMaxScaler()\n",
    "# model=scaler.fit(X)\n",
    "# X=model.transform(X)\n",
    "\n",
    "# # print scaled features\n",
    "# print(X)\n"
   ]
  },
  {
   "cell_type": "code",
   "execution_count": 161,
   "metadata": {
    "id": "Q6q9ut6ilwDS"
   },
   "outputs": [],
   "source": []
  },
  {
   "cell_type": "code",
   "execution_count": 162,
   "metadata": {
    "id": "QisnY-Y4vdgf"
   },
   "outputs": [],
   "source": [
    "# plt.figure(figsize=(10,10))\n",
    "# sns.pairplot(data=df)"
   ]
  },
  {
   "cell_type": "markdown",
   "metadata": {
    "id": "tu3oOc5Gvdgf"
   },
   "source": [
    "## Feature Selection"
   ]
  },
  {
   "cell_type": "code",
   "execution_count": 163,
   "metadata": {
    "id": "hmV2xPDQvdgf"
   },
   "outputs": [],
   "source": [
    "# Lets try to understand which are important feature for this dataset\n",
    "from sklearn.feature_selection import SelectKBest\n",
    "from sklearn.feature_selection import chi2"
   ]
  },
  {
   "cell_type": "code",
   "execution_count": 164,
   "metadata": {
    "id": "ZxdHciCOvdgf"
   },
   "outputs": [],
   "source": [
    "X = df.iloc[:,1:7]  # Independent columns\n",
    "y = df.iloc[:,[-1]] # Yarget column i.e price range "
   ]
  },
  {
   "cell_type": "code",
   "execution_count": 165,
   "metadata": {
    "id": "Iz29JOa9vdgf"
   },
   "outputs": [],
   "source": [
    "# Apply SelectKBest class to extract top 10 best features\n",
    "# bestfeatures = SelectKBest(score_func=chi2, k=4)\n",
    "# fit = bestfeatures.fit(X,y)"
   ]
  },
  {
   "cell_type": "code",
   "execution_count": 166,
   "metadata": {
    "id": "39L7NdK2c52b"
   },
   "outputs": [],
   "source": [
    "# from sklearn.preprocessing import StandardScaler,MinMaxScaler\n",
    "# # data = [[0, 0], [0, 0], [1, 1], [1, 1]]\n",
    "# st = MinMaxScaler()\n",
    "# X=st.fit_transform(X)\n",
    "# # StandardScaler()"
   ]
  },
  {
   "cell_type": "code",
   "execution_count": 167,
   "metadata": {
    "id": "arxlsAeivdgg"
   },
   "outputs": [],
   "source": [
    "# dfscores = pd.DataFrame(fit.scores_)\n",
    "# dfcolumns = pd.DataFrame(X.columns)"
   ]
  },
  {
   "cell_type": "code",
   "execution_count": 167,
   "metadata": {
    "id": "7BMroAViyWS1"
   },
   "outputs": [],
   "source": []
  },
  {
   "cell_type": "code",
   "execution_count": 167,
   "metadata": {
    "id": "v1kVBUu7PeXw"
   },
   "outputs": [],
   "source": []
  },
  {
   "cell_type": "code",
   "execution_count": 168,
   "metadata": {
    "id": "u1nTUbRNvdgg"
   },
   "outputs": [],
   "source": [
    "# # Concat two dataframes for better visualization \n",
    "# featureScores = pd.concat([dfcolumns,dfscores],axis=1)\n",
    "# featureScores.columns = ['Specs','Score']  #naming the dataframe columns"
   ]
  },
  {
   "cell_type": "code",
   "execution_count": 169,
   "metadata": {
    "id": "Az29jewFvdgg"
   },
   "outputs": [],
   "source": [
    "# featureScores"
   ]
  },
  {
   "cell_type": "code",
   "execution_count": 170,
   "metadata": {
    "id": "wBK3LGv6vdgg"
   },
   "outputs": [],
   "source": [
    "# print(featureScores.nlargest(4,'Score'))  #print 5 best features"
   ]
  },
  {
   "cell_type": "markdown",
   "metadata": {
    "id": "yHOJvzyKvdgg"
   },
   "source": [
    "### Feature Importance"
   ]
  },
  {
   "cell_type": "code",
   "execution_count": 171,
   "metadata": {
    "id": "797kbE1wvdgg"
   },
   "outputs": [],
   "source": [
    "# Fiting Feature Seclection using Ensemble Methods\n",
    "# from sklearn.ensemble import ExtraTreesClassifier\n",
    "# import matplotlib.pyplot as plt\n",
    "# model = ExtraTreesClassifier()\n",
    "# model.fit(X,y)"
   ]
  },
  {
   "cell_type": "code",
   "execution_count": 172,
   "metadata": {
    "id": "LnKOoKeXvdgh"
   },
   "outputs": [],
   "source": [
    "# print(model.feature_importances_) #use inbuilt class feature_importances of tree based classifiers"
   ]
  },
  {
   "cell_type": "code",
   "execution_count": 172,
   "metadata": {
    "id": "IMScQApJttEQ"
   },
   "outputs": [],
   "source": []
  },
  {
   "cell_type": "code",
   "execution_count": 173,
   "metadata": {
    "id": "n975DDJ5vdgh"
   },
   "outputs": [],
   "source": [
    "# # Plot graph of feature importances for better visualization\n",
    "# feat_importances = pd.Series(model.feature_importances_, index=X.columns)\n",
    "# feat_importances.nlargest(10).plot(kind='barh')\n",
    "# plt.show()"
   ]
  },
  {
   "cell_type": "code",
   "execution_count": 174,
   "metadata": {
    "id": "i30goR3mvdgh"
   },
   "outputs": [],
   "source": [
    "# df.head()"
   ]
  },
  {
   "cell_type": "markdown",
   "metadata": {
    "id": "xRd1vUqwvdgh"
   },
   "source": [
    "## Model Fitting "
   ]
  },
  {
   "cell_type": "markdown",
   "metadata": {
    "id": "Pd2JZ6mkvdgh"
   },
   "source": [
    "### Random Forest Regressor "
   ]
  },
  {
   "cell_type": "code",
   "execution_count": 175,
   "metadata": {
    "id": "I_XvGIQyvdgh"
   },
   "outputs": [],
   "source": [
    "# Value Assigning\n",
    "X = df.iloc[:,[6,2,4,5,1,3]]\n",
    "y = df.iloc[:,[-1]]"
   ]
  },
  {
   "cell_type": "code",
   "execution_count": 176,
   "metadata": {
    "id": "ywJEVMkVvdgi"
   },
   "outputs": [],
   "source": [
    "from sklearn.model_selection import train_test_split\n",
    "X_train,X_test,y_train,y_test = train_test_split(X,y,test_size=0.25,random_state=15)"
   ]
  },
  {
   "cell_type": "code",
   "execution_count": 177,
   "metadata": {
    "colab": {
     "base_uri": "https://localhost:8080/"
    },
    "id": "cAMwHarrvdgi",
    "outputId": "54e0ebf1-014f-4b8d-c0e4-a3061d27d9da"
   },
   "outputs": [
    {
     "name": "stderr",
     "output_type": "stream",
     "text": [
      "<ipython-input-177-5d4b94c79232>:3: DataConversionWarning: A column-vector y was passed when a 1d array was expected. Please change the shape of y to (n_samples,), for example using ravel().\n",
      "  reg.fit(X_train,y_train)\n"
     ]
    },
    {
     "data": {
      "text/plain": [
       "RandomForestRegressor()"
      ]
     },
     "execution_count": 177,
     "metadata": {},
     "output_type": "execute_result"
    }
   ],
   "source": [
    "from sklearn.ensemble import RandomForestRegressor\n",
    "reg = RandomForestRegressor()\n",
    "reg.fit(X_train,y_train)"
   ]
  },
  {
   "cell_type": "code",
   "execution_count": 178,
   "metadata": {
    "id": "cUvc7WYOvdgi"
   },
   "outputs": [],
   "source": [
    "y_pred = reg.predict(X_train)"
   ]
  },
  {
   "cell_type": "code",
   "execution_count": 179,
   "metadata": {
    "colab": {
     "base_uri": "https://localhost:8080/"
    },
    "id": "MBH5LECUvdgi",
    "outputId": "89ec4cb0-c5ac-480a-f219-3435d857fbd5"
   },
   "outputs": [
    {
     "name": "stdout",
     "output_type": "stream",
     "text": [
      "Training Accuracy: 98.17014818545293\n"
     ]
    }
   ],
   "source": [
    "# Training Score\n",
    "print(\"Training Accuracy:\",reg.score(X_train,y_train)*100)"
   ]
  },
  {
   "cell_type": "code",
   "execution_count": 180,
   "metadata": {
    "colab": {
     "base_uri": "https://localhost:8080/"
    },
    "id": "qEmMbwSMvdgi",
    "outputId": "5d42cf3b-ce13-43d9-89cc-713b7c0e507f"
   },
   "outputs": [
    {
     "name": "stdout",
     "output_type": "stream",
     "text": [
      "Testing Accuracy: 78.14285021595637\n"
     ]
    }
   ],
   "source": [
    "# Testing Score\n",
    "print(\"Testing Accuracy:\",reg.score(X_test,y_test)*100)"
   ]
  },
  {
   "cell_type": "code",
   "execution_count": 181,
   "metadata": {
    "colab": {
     "base_uri": "https://localhost:8080/",
     "height": 295
    },
    "id": "Z7BP928Lvdgi",
    "outputId": "fd500cc7-2f42-4c99-9b5a-c42acc09d8eb"
   },
   "outputs": [
    {
     "data": {
      "image/png": "[encoded data removed]",
      "text/plain": [
       "<Figure size 432x288 with 1 Axes>"
      ]
     },
     "metadata": {
      "needs_background": "light"
     },
     "output_type": "display_data"
    }
   ],
   "source": [
    "# Visualizing the differences between actual prices and predicted values\n",
    "plt.scatter(y_train, y_pred)\n",
    "plt.xlabel(\"Prices\")\n",
    "plt.ylabel(\"Predicted prices\")\n",
    "plt.title(\"Prices vs Predicted prices\")\n",
    "plt.show()"
   ]
  },
  {
   "cell_type": "code",
   "execution_count": 182,
   "metadata": {
    "colab": {
     "base_uri": "https://localhost:8080/"
    },
    "id": "pU2xJa6Uvdgj",
    "outputId": "acabbb5c-c46a-49c4-d808-873fd879408b"
   },
   "outputs": [
    {
     "name": "stderr",
     "output_type": "stream",
     "text": [
      "/usr/local/lib/python3.8/dist-packages/sklearn/base.py:450: UserWarning: X does not have valid feature names, but RandomForestRegressor was fitted with feature names\n",
      "  warnings.warn(\n"
     ]
    },
    {
     "data": {
      "text/plain": [
       "array([7.502])"
      ]
     },
     "execution_count": 182,
     "metadata": {},
     "output_type": "execute_result"
    }
   ],
   "source": [
    "# Sample Prediction\n",
    "reg.predict([[4.0,128.0,6.00,48,13.0,4000]])"
   ]
  },
  {
   "cell_type": "code",
   "execution_count": 183,
   "metadata": {
    "colab": {
     "base_uri": "https://localhost:8080/"
    },
    "id": "7pqUdOpzjHlM",
    "outputId": "29910087-2a95-4896-f69f-4b531a8cb1d6"
   },
   "outputs": [
    {
     "name": "stderr",
     "output_type": "stream",
     "text": [
      "<ipython-input-183-76901e6ddeac>:5: DataConversionWarning: A column-vector y was passed when a 1d array was expected. Please change the shape of y to (n_samples,), for example using ravel().\n",
      "  dtree.fit(X_train,y_train)\n"
     ]
    }
   ],
   "source": [
    "import time\n",
    "from sklearn.ensemble import RandomForestRegressor\n",
    "start = time.time()\n",
    "dtree =RandomForestRegressor(n_estimators=100)\n",
    "dtree.fit(X_train,y_train)\n",
    "y_pred_dcc = dtree.predict(X_test)\n",
    "end = time.time()"
   ]
  },
  {
   "cell_type": "code",
   "execution_count": 184,
   "metadata": {
    "colab": {
     "base_uri": "https://localhost:8080/"
    },
    "id": "LGtN0h11jHxb",
    "outputId": "a9f129f6-7c16-4bff-a616-6701c029a604"
   },
   "outputs": [
    {
     "data": {
      "text/plain": [
       "0.9776948330445623"
      ]
     },
     "execution_count": 184,
     "metadata": {},
     "output_type": "execute_result"
    }
   ],
   "source": [
    "dtree.score(X_train,y_train)"
   ]
  },
  {
   "cell_type": "code",
   "execution_count": 233,
   "metadata": {
    "colab": {
     "base_uri": "https://localhost:8080/"
    },
    "id": "pAmn7JLp_Jii",
    "outputId": "f1a7436a-d2ca-4653-cc3e-1782c6a4db2f"
   },
   "outputs": [
    {
     "name": "stdout",
     "output_type": "stream",
     "text": [
      "Training Accuracy: 98.17014818545293\n"
     ]
    }
   ],
   "source": [
    "# Training Score\n",
    "print(\"Training Accuracy:\",reg.score(X_train,y_train)*100)"
   ]
  },
  {
   "cell_type": "code",
   "execution_count": 234,
   "metadata": {
    "colab": {
     "base_uri": "https://localhost:8080/"
    },
    "id": "dQASt1tk_KZr",
    "outputId": "3331434b-3fcd-4d77-b34d-967bac809ec3"
   },
   "outputs": [
    {
     "name": "stdout",
     "output_type": "stream",
     "text": [
      "Testing Accuracy: 78.14285021595637\n"
     ]
    }
   ],
   "source": [
    "# Testing Score\n",
    "print(\"Testing Accuracy:\",reg.score(X_test,y_test)*100)"
   ]
  },
  {
   "cell_type": "code",
   "execution_count": 185,
   "metadata": {
    "colab": {
     "base_uri": "https://localhost:8080/"
    },
    "id": "qhdb01ZQjH6P",
    "outputId": "019559df-be19-4899-c09a-2ef9831c0293"
   },
   "outputs": [
    {
     "data": {
      "text/plain": [
       "0.3156318664550781"
      ]
     },
     "execution_count": 185,
     "metadata": {},
     "output_type": "execute_result"
    }
   ],
   "source": [
    "dec = end-start\n",
    "time = dec\n",
    "time"
   ]
  },
  {
   "cell_type": "code",
   "execution_count": 186,
   "metadata": {
    "colab": {
     "base_uri": "https://localhost:8080/"
    },
    "id": "ejYK798JjIBe",
    "outputId": "86ddfa5e-c7b1-4b64-e693-8a3027b6a6ec"
   },
   "outputs": [
    {
     "name": "stderr",
     "output_type": "stream",
     "text": [
      "<ipython-input-186-51de15cdb1f1>:11: DataConversionWarning: A column-vector y was passed when a 1d array was expected. Please change the shape of y to (n_samples,), for example using ravel().\n",
      "  clf.fit(X_train,y_train)\n",
      "<ipython-input-186-51de15cdb1f1>:11: DataConversionWarning: A column-vector y was passed when a 1d array was expected. Please change the shape of y to (n_samples,), for example using ravel().\n",
      "  clf.fit(X_train,y_train)\n",
      "<ipython-input-186-51de15cdb1f1>:11: DataConversionWarning: A column-vector y was passed when a 1d array was expected. Please change the shape of y to (n_samples,), for example using ravel().\n",
      "  clf.fit(X_train,y_train)\n",
      "<ipython-input-186-51de15cdb1f1>:11: DataConversionWarning: A column-vector y was passed when a 1d array was expected. Please change the shape of y to (n_samples,), for example using ravel().\n",
      "  clf.fit(X_train,y_train)\n",
      "<ipython-input-186-51de15cdb1f1>:11: DataConversionWarning: A column-vector y was passed when a 1d array was expected. Please change the shape of y to (n_samples,), for example using ravel().\n",
      "  clf.fit(X_train,y_train)\n",
      "<ipython-input-186-51de15cdb1f1>:11: DataConversionWarning: A column-vector y was passed when a 1d array was expected. Please change the shape of y to (n_samples,), for example using ravel().\n",
      "  clf.fit(X_train,y_train)\n"
     ]
    }
   ],
   "source": [
    "# Make Predictions on the validation dataset Plot accuracy  varying parameters\n",
    "acc = []\n",
    "import time\n",
    "from sklearn.metrics import mean_squared_error #Import scikit-learn metrics module for accuracy calculation\n",
    "#from sklearn.metrics import r2_score\n",
    "from sklearn.ensemble import RandomForestRegressor\n",
    "acc_time = []\n",
    "for i in range(6):\n",
    "  start = time.time()\n",
    "  clf = RandomForestRegressor(n_estimators=100)\n",
    "  clf.fit(X_train,y_train)\n",
    "  y_pred = clf.predict(X_test)\n",
    "  accu = clf.score(X_train,y_train)*100\n",
    "  \n",
    "  end = time.time()\n",
    "  dur = end - start\n",
    "  acc.append(accu)\n",
    "  acc_time.append(dur)"
   ]
  },
  {
   "cell_type": "code",
   "execution_count": 187,
   "metadata": {
    "colab": {
     "base_uri": "https://localhost:8080/"
    },
    "id": "c4um8NRDjIKb",
    "outputId": "fac3e217-4584-4b43-e4a7-a83f639562c5"
   },
   "outputs": [
    {
     "data": {
      "text/plain": [
       "[97.75870424820764,\n",
       " 97.83413603994009,\n",
       " 97.67561342141381,\n",
       " 97.94601543045815,\n",
       " 97.44930992386155,\n",
       " 97.98333350374917]"
      ]
     },
     "execution_count": 187,
     "metadata": {},
     "output_type": "execute_result"
    }
   ],
   "source": [
    "acc #mean square error"
   ]
  },
  {
   "cell_type": "code",
   "execution_count": 188,
   "metadata": {
    "colab": {
     "base_uri": "https://localhost:8080/",
     "height": 296
    },
    "id": "-ituVuwwja7v",
    "outputId": "71f12223-8487-47a9-f761-ceef0f1e5e1d"
   },
   "outputs": [
    {
     "data": {
      "image/png": "[encoded data removed]",
      "text/plain": [
       "<Figure size 432x288 with 1 Axes>"
      ]
     },
     "metadata": {
      "needs_background": "light"
     },
     "output_type": "display_data"
    }
   ],
   "source": [
    "#t Plot time  for varying parameters\n",
    "# acc = []\n",
    "models = []\n",
    "for i in range(6):\n",
    "  no = i\n",
    "  models.append(no)\n",
    "# models = [\"Decision Tree\",\"Random Forest\",\"SVM\"]\n",
    "plt.bar(models, acc, color ='maroon',width = 0.4)\n",
    "\n",
    "plt.xlabel(\"n_samples_split\")\n",
    "plt.ylabel(\"Accuracy\")\n",
    "plt.title(\"Accuracy difference for varying score\")\n",
    "plt.show()"
   ]
  },
  {
   "cell_type": "code",
   "execution_count": 189,
   "metadata": {
    "colab": {
     "base_uri": "https://localhost:8080/"
    },
    "id": "y46rDxqvjbDU",
    "outputId": "7244e9dc-e064-4d13-98c3-1ca9591c0d75"
   },
   "outputs": [
    {
     "data": {
      "text/plain": [
       "[0.3508429527282715,\n",
       " 0.36934614181518555,\n",
       " 0.4654216766357422,\n",
       " 0.6934127807617188,\n",
       " 0.3429832458496094,\n",
       " 0.4707815647125244]"
      ]
     },
     "execution_count": 189,
     "metadata": {},
     "output_type": "execute_result"
    }
   ],
   "source": [
    "acc_time"
   ]
  },
  {
   "cell_type": "code",
   "execution_count": 190,
   "metadata": {
    "colab": {
     "base_uri": "https://localhost:8080/",
     "height": 296
    },
    "id": "75MWejWsjfVs",
    "outputId": "6005abc2-63de-4d6a-955e-841dc8ba4ff4"
   },
   "outputs": [
    {
     "data": {
      "image/png": "[encoded data removed]",
      "text/plain": [
       "<Figure size 432x288 with 1 Axes>"
      ]
     },
     "metadata": {
      "needs_background": "light"
     },
     "output_type": "display_data"
    }
   ],
   "source": [
    "models = []\n",
    "for i in range(6):\n",
    "  no = i\n",
    "  models.append(no)\n",
    "# models = [\"Decision Tree\",\"Random Forest\",\"SVM\"]\n",
    "plt.bar(models, acc_time, color ='maroon',width = 0.4)\n",
    "\n",
    "plt.xlabel(\"n_samples_split\")\n",
    "plt.ylabel(\"Time\")\n",
    "plt.title(\"Time difference for varying scores \")\n",
    "plt.show()"
   ]
  },
  {
   "cell_type": "code",
   "execution_count": 191,
   "metadata": {
    "colab": {
     "base_uri": "https://localhost:8080/"
    },
    "id": "_OLsy91HjCMr",
    "outputId": "be442e2e-af4e-4b1b-a637-bdb3899b0dd3"
   },
   "outputs": [
    {
     "name": "stderr",
     "output_type": "stream",
     "text": [
      "/usr/local/lib/python3.8/dist-packages/sklearn/model_selection/_validation.py:680: DataConversionWarning: A column-vector y was passed when a 1d array was expected. Please change the shape of y to (n_samples,), for example using ravel().\n",
      "  estimator.fit(X_train, y_train, **fit_params)\n",
      "/usr/local/lib/python3.8/dist-packages/sklearn/model_selection/_validation.py:680: DataConversionWarning: A column-vector y was passed when a 1d array was expected. Please change the shape of y to (n_samples,), for example using ravel().\n",
      "  estimator.fit(X_train, y_train, **fit_params)\n",
      "/usr/local/lib/python3.8/dist-packages/sklearn/model_selection/_validation.py:680: DataConversionWarning: A column-vector y was passed when a 1d array was expected. Please change the shape of y to (n_samples,), for example using ravel().\n",
      "  estimator.fit(X_train, y_train, **fit_params)\n",
      "/usr/local/lib/python3.8/dist-packages/sklearn/model_selection/_validation.py:680: DataConversionWarning: A column-vector y was passed when a 1d array was expected. Please change the shape of y to (n_samples,), for example using ravel().\n",
      "  estimator.fit(X_train, y_train, **fit_params)\n",
      "/usr/local/lib/python3.8/dist-packages/sklearn/model_selection/_validation.py:680: DataConversionWarning: A column-vector y was passed when a 1d array was expected. Please change the shape of y to (n_samples,), for example using ravel().\n",
      "  estimator.fit(X_train, y_train, **fit_params)\n"
     ]
    },
    {
     "name": "stdout",
     "output_type": "stream",
     "text": [
      "Cross validation scores: [0.06630378 0.60669992 0.33361773 0.50908207 0.80662712]\n",
      "[0.06630378 0.60669992 0.33361773 0.50908207 0.80662712]\n"
     ]
    }
   ],
   "source": [
    "from sklearn.ensemble import RandomForestRegressor\n",
    "from sklearn.model_selection import cross_val_score\n",
    "\n",
    "# Create a Random Forest Regressor\n",
    "rf = RandomForestRegressor(n_estimators=100)\n",
    "\n",
    "# Use the built-in cross_val_score function to perform k-fold CV\n",
    "scores = cross_val_score(rf, X, y, cv=5)\n",
    "\n",
    "# \n",
    "print(\"Cross validation scores: {}\".format(scores))\n",
    "print(scores)\n",
    "\n"
   ]
  },
  {
   "cell_type": "markdown",
   "metadata": {
    "id": "FFOC-g9mvdgj"
   },
   "source": [
    "### Decision tree Regressor"
   ]
  },
  {
   "cell_type": "code",
   "execution_count": 192,
   "metadata": {
    "id": "yZ2Pfdvavdgj"
   },
   "outputs": [],
   "source": [
    "from sklearn.model_selection import train_test_split\n",
    "X_train,X_test,y_train,y_test = train_test_split(X,y,test_size=0.25,random_state=15)\n"
   ]
  },
  {
   "cell_type": "code",
   "execution_count": 193,
   "metadata": {
    "colab": {
     "base_uri": "https://localhost:8080/"
    },
    "id": "D_05v3yKZ8qa",
    "outputId": "67e2df27-b445-44eb-b28f-b8a7506bfdd8"
   },
   "outputs": [
    {
     "data": {
      "text/plain": [
       "DecisionTreeRegressor(random_state=0)"
      ]
     },
     "execution_count": 193,
     "metadata": {},
     "output_type": "execute_result"
    }
   ],
   "source": [
    "from sklearn.tree import DecisionTreeRegressor\n",
    "regressor = DecisionTreeRegressor(random_state=0)\n",
    "regressor.fit(X_train, y_train)"
   ]
  },
  {
   "cell_type": "code",
   "execution_count": 194,
   "metadata": {
    "id": "UjVMZpufvdgj"
   },
   "outputs": [],
   "source": [
    "y_pred = regressor.predict(X_train)"
   ]
  },
  {
   "cell_type": "code",
   "execution_count": 231,
   "metadata": {
    "colab": {
     "base_uri": "https://localhost:8080/"
    },
    "id": "aQTu9Mouvdgj",
    "outputId": "6e9ad172-9e25-46c3-d03a-ad9937cee14a"
   },
   "outputs": [
    {
     "name": "stdout",
     "output_type": "stream",
     "text": [
      "Training Accuracy: 100.0\n"
     ]
    }
   ],
   "source": [
    "# Training Score\n",
    "print(\"Training Accuracy:\",regressor.score(X_train,y_train)*100)"
   ]
  },
  {
   "cell_type": "code",
   "execution_count": 232,
   "metadata": {
    "colab": {
     "base_uri": "https://localhost:8080/"
    },
    "id": "zWP6Pnl-vdgj",
    "outputId": "0bdf4320-b823-49c8-ace7-ef26dc2857af"
   },
   "outputs": [
    {
     "name": "stdout",
     "output_type": "stream",
     "text": [
      "Testing Accuracy: 88.35031103142911\n"
     ]
    }
   ],
   "source": [
    "# Testing Score\n",
    "print(\"Testing Accuracy:\",regressor.score(X_test,y_test)*100)"
   ]
  },
  {
   "cell_type": "code",
   "execution_count": 197,
   "metadata": {
    "colab": {
     "base_uri": "https://localhost:8080/"
    },
    "id": "vtYLvrn0vdgj",
    "outputId": "97bdb97c-16ce-43b6-f92d-492dde711ccf"
   },
   "outputs": [
    {
     "name": "stderr",
     "output_type": "stream",
     "text": [
      "/usr/local/lib/python3.8/dist-packages/sklearn/base.py:450: UserWarning: X does not have valid feature names, but RandomForestRegressor was fitted with feature names\n",
      "  warnings.warn(\n"
     ]
    },
    {
     "data": {
      "text/plain": [
       "array([7.502])"
      ]
     },
     "execution_count": 197,
     "metadata": {},
     "output_type": "execute_result"
    }
   ],
   "source": [
    "# Sample Prediction\n",
    "reg.predict([[4.0,128.0,6.00,48,13.0,4000]])\n"
   ]
  },
  {
   "cell_type": "code",
   "execution_count": 198,
   "metadata": {
    "id": "KOY9rVQtBJoH"
   },
   "outputs": [],
   "source": [
    "import time\n",
    "from sklearn.tree import DecisionTreeRegressor\n",
    "start = time.time()\n",
    "dtree =DecisionTreeRegressor(random_state=0)\n",
    "dtree.fit(X_train,y_train)\n",
    "y_pred_dcc = dtree.predict(X_test)\n",
    "end = time.time()"
   ]
  },
  {
   "cell_type": "code",
   "execution_count": 199,
   "metadata": {
    "colab": {
     "base_uri": "https://localhost:8080/"
    },
    "id": "RW9lmo6OBNaA",
    "outputId": "4aa7106b-6fd8-4170-d2dc-038e1791f4f2"
   },
   "outputs": [
    {
     "data": {
      "text/plain": [
       "1.0"
      ]
     },
     "execution_count": 199,
     "metadata": {},
     "output_type": "execute_result"
    }
   ],
   "source": [
    "dtree.score(X_train,y_train)"
   ]
  },
  {
   "cell_type": "code",
   "execution_count": 200,
   "metadata": {
    "colab": {
     "base_uri": "https://localhost:8080/"
    },
    "id": "2L6AvcEWBOU1",
    "outputId": "b593b51a-c5cd-43db-8568-663de4f0c328"
   },
   "outputs": [
    {
     "data": {
      "text/plain": [
       "0.007452964782714844"
      ]
     },
     "execution_count": 200,
     "metadata": {},
     "output_type": "execute_result"
    }
   ],
   "source": [
    "dec = end-start\n",
    "time = dec\n",
    "time"
   ]
  },
  {
   "cell_type": "code",
   "execution_count": 201,
   "metadata": {
    "id": "LeIB9jsMBSnU"
   },
   "outputs": [],
   "source": [
    "# Make Predictions on the validation dataset Plot accuracy  varying parameters\n",
    "acc_2 = []\n",
    "import time\n",
    "from sklearn.metrics import mean_squared_error #Import scikit-learn metrics module for accuracy calculation\n",
    "from sklearn.metrics import r2_score\n",
    "from sklearn.tree import DecisionTreeRegressor\n",
    "acc_time_2 = []\n",
    "for i in range(10):\n",
    "  start = time.time()\n",
    "  clf = DecisionTreeRegressor(min_samples_split=2)\n",
    "  clf.fit(X_train,y_train)\n",
    "  y_pred = clf.predict(X_test)\n",
    "  accu = mean_squared_error(y_pred,y_test)*100\n",
    "  \n",
    "  end = time.time()\n",
    "  dur = end - start\n",
    "  acc_2.append(accu)\n",
    "  acc_time_2.append(dur)"
   ]
  },
  {
   "cell_type": "code",
   "execution_count": 202,
   "metadata": {
    "colab": {
     "base_uri": "https://localhost:8080/"
    },
    "id": "YShS1RNuBV1o",
    "outputId": "10b7d725-f79a-4386-b605-bd8dd74f296e"
   },
   "outputs": [
    {
     "data": {
      "text/plain": [
       "[50.219512195121965,\n",
       " 170.34146341463418,\n",
       " 202.29268292682931,\n",
       " 174.4878048780488,\n",
       " 173.2926829268293,\n",
       " 176.0487804878049,\n",
       " 174.4878048780488,\n",
       " 171.56097560975618,\n",
       " 174.68292682926833,\n",
       " 173.2926829268293]"
      ]
     },
     "execution_count": 202,
     "metadata": {},
     "output_type": "execute_result"
    }
   ],
   "source": [
    "acc_2 #mean square error"
   ]
  },
  {
   "cell_type": "code",
   "execution_count": 203,
   "metadata": {
    "colab": {
     "base_uri": "https://localhost:8080/",
     "height": 296
    },
    "id": "9OzDn2Q5BZGJ",
    "outputId": "2e69689f-7852-47ff-8b1f-2602ed6e5f8d"
   },
   "outputs": [
    {
     "data": {
      "image/png": "[encoded data removed]",
      "text/plain": [
       "<Figure size 432x288 with 1 Axes>"
      ]
     },
     "metadata": {
      "needs_background": "light"
     },
     "output_type": "display_data"
    }
   ],
   "source": [
    "#t Plot time  for varying parameters\n",
    "# acc = []\n",
    "models = []\n",
    "for i in range(10):\n",
    "  no = i\n",
    "  models.append(no)\n",
    "# models = [\"Decision Tree\",\"Random Forest\",\"SVM\"]\n",
    "plt.bar(models, acc_2, color ='maroon',width = 0.4)\n",
    "\n",
    "plt.xlabel(\"n_samples_split\")\n",
    "plt.ylabel(\"Accuracy\")\n",
    "plt.title(\"Accuracy difference for varying scores\")\n",
    "plt.show()"
   ]
  },
  {
   "cell_type": "code",
   "execution_count": 204,
   "metadata": {
    "colab": {
     "base_uri": "https://localhost:8080/"
    },
    "id": "CnzQA9VsBcB7",
    "outputId": "cc6ffc5e-8420-48a8-809d-c2b94d1f19b4"
   },
   "outputs": [
    {
     "data": {
      "text/plain": [
       "[0.009211063385009766,\n",
       " 0.009947538375854492,\n",
       " 0.007828712463378906,\n",
       " 0.011284112930297852,\n",
       " 0.01077413558959961,\n",
       " 0.023083925247192383,\n",
       " 0.01898670196533203,\n",
       " 0.0072460174560546875,\n",
       " 0.008786439895629883,\n",
       " 0.007852792739868164]"
      ]
     },
     "execution_count": 204,
     "metadata": {},
     "output_type": "execute_result"
    }
   ],
   "source": [
    "acc_time_2"
   ]
  },
  {
   "cell_type": "code",
   "execution_count": 205,
   "metadata": {
    "colab": {
     "base_uri": "https://localhost:8080/",
     "height": 296
    },
    "id": "8qpUQAb5BeDB",
    "outputId": "e64cb587-2518-4855-8c44-07f93a2cf6a7"
   },
   "outputs": [
    {
     "data": {
      "image/png": "[encoded data removed]",
      "text/plain": [
       "<Figure size 432x288 with 1 Axes>"
      ]
     },
     "metadata": {
      "needs_background": "light"
     },
     "output_type": "display_data"
    }
   ],
   "source": [
    "models = []\n",
    "for i in range(10):\n",
    "  no = i\n",
    "  models.append(no)\n",
    "# models = [\"Decision Tree\",\"Random Forest\",\"SVM\"]\n",
    "plt.bar(models, acc_time_2, color ='maroon',width = 0.4)\n",
    "\n",
    "plt.xlabel(\"n_samples_split\")\n",
    "plt.ylabel(\"Time\")\n",
    "plt.title(\"Time difference for varying scores \")\n",
    "plt.show()"
   ]
  },
  {
   "cell_type": "code",
   "execution_count": 206,
   "metadata": {
    "colab": {
     "base_uri": "https://localhost:8080/"
    },
    "id": "5lBlpq8RjY1r",
    "outputId": "64b180c1-dc2a-474a-c6b9-f455f5975021"
   },
   "outputs": [
    {
     "name": "stdout",
     "output_type": "stream",
     "text": [
      "Cross validation scores: [-0.27921858  0.74833682 -0.32072828  0.24373342  0.80666851]\n"
     ]
    }
   ],
   "source": [
    "#k fold cross validation score \n",
    "from sklearn.tree import DecisionTreeRegressor\n",
    "from sklearn.model_selection import cross_val_score\n",
    "\n",
    "# Create a Decision Tree Regressor\n",
    "dt = DecisionTreeRegressor()\n",
    "\n",
    "# Use the built-in cross_val_score function to perform k-fold CV\n",
    "scores = cross_val_score(dt, X, y, cv=5)\n",
    "\n",
    "\n",
    "print(\"Cross validation scores: {}\".format(scores))\n",
    "# print(scores)\n",
    "\n"
   ]
  },
  {
   "cell_type": "markdown",
   "metadata": {
    "id": "7qcGZUdblHRn"
   },
   "source": [
    "KNN REGRESSOR\n"
   ]
  },
  {
   "cell_type": "code",
   "execution_count": 207,
   "metadata": {
    "id": "bzShCNkTvdgk"
   },
   "outputs": [],
   "source": [
    "# from sklearn.linear_model import Lasso\n",
    "\n",
    "# reg = Lasso(alpha=1)\n",
    "# reg.fit(X_train, y_train)\n",
    "# y_pred = reg.predict(X_test)"
   ]
  },
  {
   "cell_type": "code",
   "execution_count": 208,
   "metadata": {
    "id": "WXC3HDZ3zkFJ"
   },
   "outputs": [],
   "source": [
    "# from sklearn.metrics import mean_absolute_error, mean_squared_error\n",
    "\n",
    "# mean_squared_error(y_pred,y_test)"
   ]
  },
  {
   "cell_type": "code",
   "execution_count": 209,
   "metadata": {
    "id": "RZ9vRnRyy95w"
   },
   "outputs": [],
   "source": [
    "# print('R squared training set', round(reg.score(X_train, y_train)*100, 2))\n",
    "# print('R squared test set', round(reg.score(X_test, y_test)*100, 2))"
   ]
  },
  {
   "cell_type": "code",
   "execution_count": 210,
   "metadata": {
    "id": "SNgq-Sft3QCA"
   },
   "outputs": [],
   "source": [
    "import time\n",
    "\n",
    "start = time.time()\n",
    "from sklearn.neighbors import KNeighborsRegressor\n",
    "neigh = KNeighborsRegressor(n_neighbors=2) \n",
    "neigh.fit(X_train,y_train)\n",
    "end = time.time()"
   ]
  },
  {
   "cell_type": "code",
   "execution_count": 211,
   "metadata": {
    "colab": {
     "base_uri": "https://localhost:8080/"
    },
    "id": "UbZvTToBcxtO",
    "outputId": "98481f23-bcc4-466c-a6b2-c2f1cb345014"
   },
   "outputs": [
    {
     "data": {
      "text/plain": [
       "0.9340663518630076"
      ]
     },
     "execution_count": 211,
     "metadata": {},
     "output_type": "execute_result"
    }
   ],
   "source": [
    "neigh.score(X_train,y_train)"
   ]
  },
  {
   "cell_type": "code",
   "execution_count": 212,
   "metadata": {
    "colab": {
     "base_uri": "https://localhost:8080/"
    },
    "id": "yNC6CBMlc1fZ",
    "outputId": "592ba810-3262-47a7-9374-c63297fb1629"
   },
   "outputs": [
    {
     "data": {
      "text/plain": [
       "0.0063283443450927734"
      ]
     },
     "execution_count": 212,
     "metadata": {},
     "output_type": "execute_result"
    }
   ],
   "source": [
    "dec = end-start\n",
    "time = dec\n",
    "time"
   ]
  },
  {
   "cell_type": "code",
   "execution_count": 213,
   "metadata": {
    "id": "40G81W6Lc1kn"
   },
   "outputs": [],
   "source": [
    "acc_3 = []\n",
    "import time\n",
    "from sklearn.metrics import mean_squared_error #Import scikit-learn metrics module for accuracy calculation\n",
    "from sklearn.metrics import r2_score\n",
    "\n",
    "acc_time_3 = []\n",
    "for i in range(5):\n",
    "  start = time.time()\n",
    "  clf=KNeighborsRegressor(n_neighbors=2) \n",
    "\n",
    "  clf.fit(X_train,y_train)\n",
    "  y_pred = clf.predict(X_test)\n",
    "  accu = clf.score(X_train,y_train)*100\n",
    "  \n",
    "  end = time.time()\n",
    "  dur = end - start\n",
    "  acc_3.append(accu)\n",
    "  acc_time_3.append(dur)"
   ]
  },
  {
   "cell_type": "code",
   "execution_count": 214,
   "metadata": {
    "colab": {
     "base_uri": "https://localhost:8080/"
    },
    "id": "xQIs7RpVc75n",
    "outputId": "c0485b45-9548-49ac-8472-0575eda56f70"
   },
   "outputs": [
    {
     "data": {
      "text/plain": [
       "[93.40663518630076,\n",
       " 93.40663518630076,\n",
       " 93.40663518630076,\n",
       " 93.40663518630076,\n",
       " 93.40663518630076]"
      ]
     },
     "execution_count": 214,
     "metadata": {},
     "output_type": "execute_result"
    }
   ],
   "source": [
    "acc_3\n"
   ]
  },
  {
   "cell_type": "code",
   "execution_count": 215,
   "metadata": {
    "colab": {
     "base_uri": "https://localhost:8080/",
     "height": 296
    },
    "id": "bTftvT1Pc8C_",
    "outputId": "8beb765b-2036-4a78-c1db-36cccba443dd"
   },
   "outputs": [
    {
     "data": {
      "image/png": "[encoded data removed]",
      "text/plain": [
       "<Figure size 432x288 with 1 Axes>"
      ]
     },
     "metadata": {
      "needs_background": "light"
     },
     "output_type": "display_data"
    }
   ],
   "source": [
    "models = []\n",
    "for i in range(5):\n",
    "  no = i\n",
    "  models.append(no)\n",
    "\n",
    "plt.bar(models, acc_3, color ='maroon',width = 0.4)\n",
    "\n",
    "plt.xlabel(\"n_samples_split\")\n",
    "plt.ylabel(\"Time\")\n",
    "plt.title(\"accuracy difference for varying scores \")\n",
    "plt.show()"
   ]
  },
  {
   "cell_type": "code",
   "execution_count": 216,
   "metadata": {
    "colab": {
     "base_uri": "https://localhost:8080/"
    },
    "id": "UJWESn6Qc_99",
    "outputId": "0ed14970-0297-46e7-e0a0-cfbe119cd4c0"
   },
   "outputs": [
    {
     "data": {
      "text/plain": [
       "[0.016600847244262695,\n",
       " 0.007700204849243164,\n",
       " 0.0068950653076171875,\n",
       " 0.006406545639038086,\n",
       " 0.00785374641418457]"
      ]
     },
     "execution_count": 216,
     "metadata": {},
     "output_type": "execute_result"
    }
   ],
   "source": [
    "acc_time_3"
   ]
  },
  {
   "cell_type": "code",
   "execution_count": 217,
   "metadata": {
    "colab": {
     "base_uri": "https://localhost:8080/",
     "height": 296
    },
    "id": "h4YITzNadADp",
    "outputId": "f010b23c-0193-4329-b5ff-89396f30dafc"
   },
   "outputs": [
    {
     "data": {
      "image/png": "[encoded data removed]",
      "text/plain": [
       "<Figure size 432x288 with 1 Axes>"
      ]
     },
     "metadata": {
      "needs_background": "light"
     },
     "output_type": "display_data"
    }
   ],
   "source": [
    "models = []\n",
    "for i in range(5):\n",
    "  no = i\n",
    "  models.append(no)\n",
    "# models = [\"Decision Tree\",\"Random Forest\",\"SVM\"]\n",
    "plt.bar(models, acc_time_3, color ='maroon',width = 0.4)\n",
    "\n",
    "plt.xlabel(\"n_samples_split\")\n",
    "plt.ylabel(\"Time\")\n",
    "plt.title(\"Time difference for varying scores \")\n",
    "plt.show()"
   ]
  },
  {
   "cell_type": "code",
   "execution_count": 217,
   "metadata": {
    "id": "jnfxAiyndFT8"
   },
   "outputs": [],
   "source": []
  },
  {
   "cell_type": "code",
   "execution_count": 217,
   "metadata": {
    "id": "lH4ifE7KdFeH"
   },
   "outputs": [],
   "source": []
  },
  {
   "cell_type": "code",
   "execution_count": 218,
   "metadata": {
    "colab": {
     "base_uri": "https://localhost:8080/"
    },
    "id": "xLLEfJQy3TL2",
    "outputId": "ddb3ddf3-c0d9-4e4d-a085-1c69cb54b523"
   },
   "outputs": [
    {
     "data": {
      "text/plain": [
       "0.9073170731707316"
      ]
     },
     "execution_count": 218,
     "metadata": {},
     "output_type": "execute_result"
    }
   ],
   "source": [
    "from sklearn.metrics import mean_absolute_error\n",
    "# mean_absolute_error\n",
    "y_p = neigh.predict(X_test)\n",
    "mean_absolute_error(y_p,y_test)"
   ]
  },
  {
   "cell_type": "code",
   "execution_count": 219,
   "metadata": {
    "colab": {
     "base_uri": "https://localhost:8080/"
    },
    "id": "r_y_uIgU3gaf",
    "outputId": "0d94bfd6-e7c7-4574-f085-c96425a843fc"
   },
   "outputs": [
    {
     "name": "stdout",
     "output_type": "stream",
     "text": [
      "Training Accuracy: 93.40663518630076\n"
     ]
    }
   ],
   "source": [
    "print(\"Training Accuracy:\",neigh.score(X_train,y_train)*100)\n"
   ]
  },
  {
   "cell_type": "code",
   "execution_count": 220,
   "metadata": {
    "colab": {
     "base_uri": "https://localhost:8080/"
    },
    "id": "b_MdQdNr33qt",
    "outputId": "78403b24-5660-4e13-946e-e898db1e07f9"
   },
   "outputs": [
    {
     "name": "stdout",
     "output_type": "stream",
     "text": [
      "Testing Accuracy: 64.41331866460219\n"
     ]
    }
   ],
   "source": [
    "print(\"Testing Accuracy:\",neigh.score(X_test,y_test)*100)"
   ]
  },
  {
   "cell_type": "code",
   "execution_count": 221,
   "metadata": {
    "id": "tvB5eeYdewp6"
   },
   "outputs": [],
   "source": [
    "# dec = end-start\n",
    "# time = dec\n",
    "# time"
   ]
  },
  {
   "cell_type": "code",
   "execution_count": 221,
   "metadata": {
    "id": "NRakli5gj0tH"
   },
   "outputs": [],
   "source": []
  },
  {
   "cell_type": "code",
   "execution_count": 221,
   "metadata": {
    "id": "R3BDI6Zgj003"
   },
   "outputs": [],
   "source": []
  },
  {
   "cell_type": "code",
   "execution_count": 221,
   "metadata": {
    "id": "ZIdQCx-Qj06m"
   },
   "outputs": [],
   "source": []
  },
  {
   "cell_type": "code",
   "execution_count": 222,
   "metadata": {
    "colab": {
     "base_uri": "https://localhost:8080/"
    },
    "id": "w56DsuVIjwD2",
    "outputId": "c0a46f5b-1eff-416e-90bc-b8c3b9dc5dd0"
   },
   "outputs": [
    {
     "name": "stdout",
     "output_type": "stream",
     "text": [
      "[-0.13937962  0.37403846  0.40771958  0.19597063 -0.23617852]\n"
     ]
    }
   ],
   "source": [
    "#k fold  cross validation\n",
    "from sklearn.neighbors import KNeighborsRegressor\n",
    "from sklearn.model_selection import cross_val_score\n",
    "\n",
    "# Create a KNN regressor\n",
    "knn = KNeighborsRegressor(n_neighbors=7)\n",
    "\n",
    "# Use the built-in cross_val_score function to perform k-fold CV\n",
    "scores = cross_val_score(knn, X, y, cv=5)\n",
    "print(scores)"
   ]
  },
  {
   "cell_type": "code",
   "execution_count": 222,
   "metadata": {
    "id": "P_H7O3agevr8"
   },
   "outputs": [],
   "source": []
  }
 ],
 "metadata": {
  "colab": {
   "provenance": []
  },
  "kernelspec": {
   "display_name": "Python 3 (ipykernel)",
   "language": "python",
   "name": "python3"
  },
  "language_info": {
   "codemirror_mode": {
    "name": "ipython",
    "version": 3
   },
   "file_extension": ".py",
   "mimetype": "text/x-python",
   "name": "python",
   "nbconvert_exporter": "python",
   "pygments_lexer": "ipython3",
   "version": "3.9.12"
  }
 },
 "nbformat": 4,
 "nbformat_minor": 1
}
